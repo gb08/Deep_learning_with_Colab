{
  "nbformat": 4,
  "nbformat_minor": 0,
  "metadata": {
    "colab": {
      "name": "Image_classification_with_Deep_Nets_MNIST.ipynb",
      "provenance": [],
      "collapsed_sections": [],
      "include_colab_link": true
    },
    "kernelspec": {
      "name": "python3",
      "display_name": "Python 3"
    }
  },
  "cells": [
    {
      "cell_type": "markdown",
      "metadata": {
        "id": "view-in-github",
        "colab_type": "text"
      },
      "source": [
        "<a href=\"https://colab.research.google.com/github/gb08/Deep_learning_with_Colab/blob/master/Image_classification_with_Deep_Nets_MNIST.ipynb\" target=\"_parent\"><img src=\"https://colab.research.google.com/assets/colab-badge.svg\" alt=\"Open In Colab\"/></a>"
      ]
    },
    {
      "cell_type": "code",
      "metadata": {
        "id": "elOruUHQAAfQ",
        "colab_type": "code",
        "colab": {}
      },
      "source": [
        "from google.colab import drive"
      ],
      "execution_count": 0,
      "outputs": []
    },
    {
      "cell_type": "code",
      "metadata": {
        "id": "vonIF6p-ABvq",
        "colab_type": "code",
        "colab": {
          "base_uri": "https://localhost:8080/",
          "height": 63
        },
        "outputId": "1fe47a11-c8c3-419b-e078-396515a150ec"
      },
      "source": [
        "import matplotlib as mpl\n",
        "import matplotlib.pyplot as plt\n",
        "import numpy as np\n",
        "import os\n",
        "import pandas as pd\n",
        "import sklearn\n",
        "import sys\n",
        "import tensorflow as tf\n",
        "from tensorflow import keras  # tf.keras\n",
        "import time"
      ],
      "execution_count": 2,
      "outputs": [
        {
          "output_type": "display_data",
          "data": {
            "text/html": [
              "<p style=\"color: red;\">\n",
              "The default version of TensorFlow in Colab will soon switch to TensorFlow 2.x.<br>\n",
              "We recommend you <a href=\"https://www.tensorflow.org/guide/migrate\" target=\"_blank\">upgrade</a> now \n",
              "or ensure your notebook will continue to use TensorFlow 1.x via the <code>%tensorflow_version 1.x</code> magic:\n",
              "<a href=\"https://colab.research.google.com/notebooks/tensorflow_version.ipynb\" target=\"_blank\">more info</a>.</p>\n"
            ],
            "text/plain": [
              "<IPython.core.display.HTML object>"
            ]
          },
          "metadata": {
            "tags": []
          }
        }
      ]
    },
    {
      "cell_type": "code",
      "metadata": {
        "id": "InA0aFaqAEFC",
        "colab_type": "code",
        "colab": {}
      },
      "source": [
        "from sklearn.model_selection import train_test_split\n",
        "from sklearn.preprocessing import StandardScaler\n",
        "from sklearn.datasets import fetch_california_housing"
      ],
      "execution_count": 0,
      "outputs": []
    },
    {
      "cell_type": "code",
      "metadata": {
        "id": "U58GoQ8vAGTx",
        "colab_type": "code",
        "colab": {}
      },
      "source": [
        "drive.mount('/content/gdrive')\n",
        "#!ls gdrive/My\\ Drive\n",
        "\n",
        "model_path = '/content/gdrive/YOUR PATH'"
      ],
      "execution_count": 0,
      "outputs": []
    },
    {
      "cell_type": "code",
      "metadata": {
        "id": "Vcr_mROTAJC5",
        "colab_type": "code",
        "colab": {}
      },
      "source": [
        "%matplotlib inline\n",
        "%load_ext tensorboard"
      ],
      "execution_count": 0,
      "outputs": []
    },
    {
      "cell_type": "code",
      "metadata": {
        "id": "nom1UHnpARFw",
        "colab_type": "code",
        "colab": {
          "base_uri": "https://localhost:8080/",
          "height": 153
        },
        "outputId": "a53f3647-72dd-4dde-9415-f612ab4ef0d4"
      },
      "source": [
        "fashion_mnist = keras.datasets.fashion_mnist\n",
        "(X_train_full, y_train_full), (X_test, y_test) = fashion_mnist.load_data()\n",
        "X_valid, X_train = X_train_full[:5000], X_train_full[5000:]\n",
        "y_valid, y_train = y_train_full[:5000], y_train_full[5000:]"
      ],
      "execution_count": 6,
      "outputs": [
        {
          "output_type": "stream",
          "text": [
            "Downloading data from https://storage.googleapis.com/tensorflow/tf-keras-datasets/train-labels-idx1-ubyte.gz\n",
            "32768/29515 [=================================] - 0s 0us/step\n",
            "Downloading data from https://storage.googleapis.com/tensorflow/tf-keras-datasets/train-images-idx3-ubyte.gz\n",
            "26427392/26421880 [==============================] - 0s 0us/step\n",
            "Downloading data from https://storage.googleapis.com/tensorflow/tf-keras-datasets/t10k-labels-idx1-ubyte.gz\n",
            "8192/5148 [===============================================] - 0s 0us/step\n",
            "Downloading data from https://storage.googleapis.com/tensorflow/tf-keras-datasets/t10k-images-idx3-ubyte.gz\n",
            "4423680/4422102 [==============================] - 0s 0us/step\n"
          ],
          "name": "stdout"
        }
      ]
    },
    {
      "cell_type": "code",
      "metadata": {
        "id": "HDcRSbKXAj9j",
        "colab_type": "code",
        "colab": {}
      },
      "source": [
        "\n",
        "scaler = StandardScaler()\n",
        "X_train_scaled = scaler.fit_transform(X_train.astype(np.float32).reshape(-1, 28 * 28)).reshape(-1, 28, 28)\n",
        "X_valid_scaled = scaler.transform(X_valid.astype(np.float32).reshape(-1, 28 * 28)).reshape(-1, 28, 28)\n",
        "X_test_scaled = scaler.transform(X_test.astype(np.float32).reshape(-1, 28 * 28)).reshape(-1, 28, 28)"
      ],
      "execution_count": 0,
      "outputs": []
    },
    {
      "cell_type": "code",
      "metadata": {
        "id": "gDEc_jLHArP8",
        "colab_type": "code",
        "colab": {
          "base_uri": "https://localhost:8080/",
          "height": 625
        },
        "outputId": "906462aa-2e8b-4e29-e4cb-d0da30a65194"
      },
      "source": [
        "model = keras.models.Sequential()\n",
        "model.add(keras.layers.Flatten(input_shape=[28, 28]))\n",
        "for _ in range(20):\n",
        "    model.add(keras.layers.Dense(100, activation=\"relu\"))\n",
        "model.add(keras.layers.Dense(10, activation=\"softmax\"))\n",
        "model.compile(loss=\"sparse_categorical_crossentropy\", optimizer=keras.optimizers.SGD(1e-3),\n",
        "              metrics=[\"accuracy\"])\n",
        "history = model.fit(X_train_scaled, y_train, epochs=10,\n",
        "                    validation_data=(X_valid_scaled, y_valid))\n"
      ],
      "execution_count": 8,
      "outputs": [
        {
          "output_type": "stream",
          "text": [
            "WARNING:tensorflow:From /usr/local/lib/python3.6/dist-packages/tensorflow_core/python/ops/resource_variable_ops.py:1630: calling BaseResourceVariable.__init__ (from tensorflow.python.ops.resource_variable_ops) with constraint is deprecated and will be removed in a future version.\n",
            "Instructions for updating:\n",
            "If using Keras pass *_constraint arguments to layers.\n",
            "Train on 55000 samples, validate on 5000 samples\n",
            "Epoch 1/10\n",
            "55000/55000 [==============================] - 7s 128us/sample - loss: 2.3021 - acc: 0.1378 - val_loss: 2.3017 - val_acc: 0.1612\n",
            "Epoch 2/10\n",
            "55000/55000 [==============================] - 7s 122us/sample - loss: 2.3011 - acc: 0.1877 - val_loss: 2.3004 - val_acc: 0.1780\n",
            "Epoch 3/10\n",
            "55000/55000 [==============================] - 7s 121us/sample - loss: 2.2988 - acc: 0.2030 - val_loss: 2.2965 - val_acc: 0.2100\n",
            "Epoch 4/10\n",
            "55000/55000 [==============================] - 7s 122us/sample - loss: 2.2915 - acc: 0.2025 - val_loss: 2.2856 - val_acc: 0.2012\n",
            "Epoch 5/10\n",
            "55000/55000 [==============================] - 7s 121us/sample - loss: 2.2754 - acc: 0.2007 - val_loss: 2.2631 - val_acc: 0.1972\n",
            "Epoch 6/10\n",
            "55000/55000 [==============================] - 7s 122us/sample - loss: 2.2405 - acc: 0.2006 - val_loss: 2.2128 - val_acc: 0.1988\n",
            "Epoch 7/10\n",
            "55000/55000 [==============================] - 7s 121us/sample - loss: 2.1599 - acc: 0.1998 - val_loss: 2.0942 - val_acc: 0.1982\n",
            "Epoch 8/10\n",
            "55000/55000 [==============================] - 7s 121us/sample - loss: 1.9827 - acc: 0.2006 - val_loss: 1.8614 - val_acc: 0.2016\n",
            "Epoch 9/10\n",
            "55000/55000 [==============================] - 7s 120us/sample - loss: 1.7449 - acc: 0.2265 - val_loss: 1.6604 - val_acc: 0.2722\n",
            "Epoch 10/10\n",
            "55000/55000 [==============================] - 7s 121us/sample - loss: 1.5680 - acc: 0.2932 - val_loss: 1.4866 - val_acc: 0.3222\n"
          ],
          "name": "stdout"
        },
        {
          "output_type": "error",
          "ename": "NameError",
          "evalue": "ignored",
          "traceback": [
            "\u001b[0;31m---------------------------------------------------------------------------\u001b[0m",
            "\u001b[0;31mNameError\u001b[0m                                 Traceback (most recent call last)",
            "\u001b[0;32m<ipython-input-8-f900b59da530>\u001b[0m in \u001b[0;36m<module>\u001b[0;34m()\u001b[0m\n\u001b[1;32m      8\u001b[0m history = model.fit(X_train_scaled, y_train, epochs=10,\n\u001b[1;32m      9\u001b[0m                     validation_data=(X_valid_scaled, y_valid))\n\u001b[0;32m---> 10\u001b[0;31m \u001b[0mplot_learning_curves\u001b[0m\u001b[0;34m(\u001b[0m\u001b[0mhistory\u001b[0m\u001b[0;34m)\u001b[0m\u001b[0;34m\u001b[0m\u001b[0;34m\u001b[0m\u001b[0m\n\u001b[0m",
            "\u001b[0;31mNameError\u001b[0m: name 'plot_learning_curves' is not defined"
          ]
        }
      ]
    },
    {
      "cell_type": "code",
      "metadata": {
        "id": "_DTR7BcOC6Zl",
        "colab_type": "code",
        "colab": {}
      },
      "source": [
        "def plot_learning_curves(history):\n",
        "    pd.DataFrame(history.history).plot(figsize=(8, 5))\n",
        "    plt.grid(True)\n",
        "    plt.gca().set_ylim(0, 1)\n",
        "    plt.show()"
      ],
      "execution_count": 0,
      "outputs": []
    },
    {
      "cell_type": "code",
      "metadata": {
        "id": "sZyivytYC1LQ",
        "colab_type": "code",
        "colab": {
          "base_uri": "https://localhost:8080/",
          "height": 324
        },
        "outputId": "0201e046-44cb-4bc1-b791-7635d10989ea"
      },
      "source": [
        "plot_learning_curves(history)"
      ],
      "execution_count": 10,
      "outputs": [
        {
          "output_type": "display_data",
          "data": {
            "image/png": "[encoded data removed]",
            "text/plain": [
              "<Figure size 576x360 with 1 Axes>"
            ]
          },
          "metadata": {
            "tags": []
          }
        }
      ]
    },
    {
      "cell_type": "code",
      "metadata": {
        "id": "gs-rI1Q9BSBU",
        "colab_type": "code",
        "colab": {}
      },
      "source": [
        "\n",
        "bn_model = keras.models.Sequential()\n",
        "bn_model.add(keras.layers.Flatten(input_shape=[28, 28]))\n",
        "for _ in range(20):\n",
        "    bn_model.add(keras.layers.Dense(100, activation=\"relu\"))\n",
        "    bn_model.add(keras.layers.BatchNormalization())\n",
        "bn_model.add(keras.layers.Dense(10, activation=\"softmax\"))\n",
        "bn_model.compile(loss=\"sparse_categorical_crossentropy\", optimizer=keras.optimizers.SGD(1e-3),\n",
        "              metrics=[\"accuracy\"])\n"
      ],
      "execution_count": 0,
      "outputs": []
    },
    {
      "cell_type": "code",
      "metadata": {
        "id": "li_ydoSFDRUf",
        "colab_type": "code",
        "colab": {
          "base_uri": "https://localhost:8080/",
          "height": 374
        },
        "outputId": "b5c95565-1b43-4f1f-d9bc-9cd50e58e893"
      },
      "source": [
        "history = bn_model.fit(X_train_scaled, y_train, epochs=10,\n",
        "                    validation_data=(X_valid_scaled, y_valid))\n"
      ],
      "execution_count": 12,
      "outputs": [
        {
          "output_type": "stream",
          "text": [
            "Train on 55000 samples, validate on 5000 samples\n",
            "Epoch 1/10\n",
            "55000/55000 [==============================] - 18s 325us/sample - loss: 1.9211 - acc: 0.3634 - val_loss: 1.0773 - val_acc: 0.6302\n",
            "Epoch 2/10\n",
            "55000/55000 [==============================] - 16s 288us/sample - loss: 1.1342 - acc: 0.6015 - val_loss: 0.8017 - val_acc: 0.7156\n",
            "Epoch 3/10\n",
            "55000/55000 [==============================] - 16s 290us/sample - loss: 0.9774 - acc: 0.6555 - val_loss: 0.6953 - val_acc: 0.7446\n",
            "Epoch 4/10\n",
            "55000/55000 [==============================] - 16s 285us/sample - loss: 0.8904 - acc: 0.6867 - val_loss: 0.6427 - val_acc: 0.7698\n",
            "Epoch 5/10\n",
            "55000/55000 [==============================] - 16s 293us/sample - loss: 0.8360 - acc: 0.7093 - val_loss: 0.5928 - val_acc: 0.7922\n",
            "Epoch 6/10\n",
            "55000/55000 [==============================] - 16s 298us/sample - loss: 0.7876 - acc: 0.7261 - val_loss: 0.5643 - val_acc: 0.8020\n",
            "Epoch 7/10\n",
            "55000/55000 [==============================] - 16s 294us/sample - loss: 0.7456 - acc: 0.7401 - val_loss: 0.5331 - val_acc: 0.8126\n",
            "Epoch 8/10\n",
            "55000/55000 [==============================] - 17s 304us/sample - loss: 0.7125 - acc: 0.7533 - val_loss: 0.5105 - val_acc: 0.8220\n",
            "Epoch 9/10\n",
            "55000/55000 [==============================] - 17s 301us/sample - loss: 0.6890 - acc: 0.7643 - val_loss: 0.5005 - val_acc: 0.8236\n",
            "Epoch 10/10\n",
            "55000/55000 [==============================] - 16s 299us/sample - loss: 0.6654 - acc: 0.7708 - val_loss: 0.4871 - val_acc: 0.8260\n"
          ],
          "name": "stdout"
        }
      ]
    },
    {
      "cell_type": "code",
      "metadata": {
        "id": "CSNw04y2DSyc",
        "colab_type": "code",
        "colab": {
          "base_uri": "https://localhost:8080/",
          "height": 324
        },
        "outputId": "0880330c-0c52-4799-9df0-4e4dda9b2352"
      },
      "source": [
        "plot_learning_curves(history)"
      ],
      "execution_count": 13,
      "outputs": [
        {
          "output_type": "display_data",
          "data": {
            "image/png": "[encoded data removed]",
            "text/plain": [
              "<Figure size 576x360 with 1 Axes>"
            ]
          },
          "metadata": {
            "tags": []
          }
        }
      ]
    },
    {
      "cell_type": "code",
      "metadata": {
        "id": "ublQoi2tDT3M",
        "colab_type": "code",
        "colab": {
          "base_uri": "https://localhost:8080/",
          "height": 1000
        },
        "outputId": "517c3874-4f03-41e0-8a61-b3166cc78914"
      },
      "source": [
        "bn_model.summary()\n"
      ],
      "execution_count": 14,
      "outputs": [
        {
          "output_type": "stream",
          "text": [
            "Model: \"sequential_1\"\n",
            "_________________________________________________________________\n",
            "Layer (type)                 Output Shape              Param #   \n",
            "=================================================================\n",
            "flatten_1 (Flatten)          (None, 784)               0         \n",
            "_________________________________________________________________\n",
            "dense_21 (Dense)             (None, 100)               78500     \n",
            "_________________________________________________________________\n",
            "batch_normalization (BatchNo (None, 100)               400       \n",
            "_________________________________________________________________\n",
            "dense_22 (Dense)             (None, 100)               10100     \n",
            "_________________________________________________________________\n",
            "batch_normalization_1 (Batch (None, 100)               400       \n",
            "_________________________________________________________________\n",
            "dense_23 (Dense)             (None, 100)               10100     \n",
            "_________________________________________________________________\n",
            "batch_normalization_2 (Batch (None, 100)               400       \n",
            "_________________________________________________________________\n",
            "dense_24 (Dense)             (None, 100)               10100     \n",
            "_________________________________________________________________\n",
            "batch_normalization_3 (Batch (None, 100)               400       \n",
            "_________________________________________________________________\n",
            "dense_25 (Dense)             (None, 100)               10100     \n",
            "_________________________________________________________________\n",
            "batch_normalization_4 (Batch (None, 100)               400       \n",
            "_________________________________________________________________\n",
            "dense_26 (Dense)             (None, 100)               10100     \n",
            "_________________________________________________________________\n",
            "batch_normalization_5 (Batch (None, 100)               400       \n",
            "_________________________________________________________________\n",
            "dense_27 (Dense)             (None, 100)               10100     \n",
            "_________________________________________________________________\n",
            "batch_normalization_6 (Batch (None, 100)               400       \n",
            "_________________________________________________________________\n",
            "dense_28 (Dense)             (None, 100)               10100     \n",
            "_________________________________________________________________\n",
            "batch_normalization_7 (Batch (None, 100)               400       \n",
            "_________________________________________________________________\n",
            "dense_29 (Dense)             (None, 100)               10100     \n",
            "_________________________________________________________________\n",
            "batch_normalization_8 (Batch (None, 100)               400       \n",
            "_________________________________________________________________\n",
            "dense_30 (Dense)             (None, 100)               10100     \n",
            "_________________________________________________________________\n",
            "batch_normalization_9 (Batch (None, 100)               400       \n",
            "_________________________________________________________________\n",
            "dense_31 (Dense)             (None, 100)               10100     \n",
            "_________________________________________________________________\n",
            "batch_normalization_10 (Batc (None, 100)               400       \n",
            "_________________________________________________________________\n",
            "dense_32 (Dense)             (None, 100)               10100     \n",
            "_________________________________________________________________\n",
            "batch_normalization_11 (Batc (None, 100)               400       \n",
            "_________________________________________________________________\n",
            "dense_33 (Dense)             (None, 100)               10100     \n",
            "_________________________________________________________________\n",
            "batch_normalization_12 (Batc (None, 100)               400       \n",
            "_________________________________________________________________\n",
            "dense_34 (Dense)             (None, 100)               10100     \n",
            "_________________________________________________________________\n",
            "batch_normalization_13 (Batc (None, 100)               400       \n",
            "_________________________________________________________________\n",
            "dense_35 (Dense)             (None, 100)               10100     \n",
            "_________________________________________________________________\n",
            "batch_normalization_14 (Batc (None, 100)               400       \n",
            "_________________________________________________________________\n",
            "dense_36 (Dense)             (None, 100)               10100     \n",
            "_________________________________________________________________\n",
            "batch_normalization_15 (Batc (None, 100)               400       \n",
            "_________________________________________________________________\n",
            "dense_37 (Dense)             (None, 100)               10100     \n",
            "_________________________________________________________________\n",
            "batch_normalization_16 (Batc (None, 100)               400       \n",
            "_________________________________________________________________\n",
            "dense_38 (Dense)             (None, 100)               10100     \n",
            "_________________________________________________________________\n",
            "batch_normalization_17 (Batc (None, 100)               400       \n",
            "_________________________________________________________________\n",
            "dense_39 (Dense)             (None, 100)               10100     \n",
            "_________________________________________________________________\n",
            "batch_normalization_18 (Batc (None, 100)               400       \n",
            "_________________________________________________________________\n",
            "dense_40 (Dense)             (None, 100)               10100     \n",
            "_________________________________________________________________\n",
            "batch_normalization_19 (Batc (None, 100)               400       \n",
            "_________________________________________________________________\n",
            "dense_41 (Dense)             (None, 10)                1010      \n",
            "=================================================================\n",
            "Total params: 279,410\n",
            "Trainable params: 275,410\n",
            "Non-trainable params: 4,000\n",
            "_________________________________________________________________\n"
          ],
          "name": "stdout"
        }
      ]
    },
    {
      "cell_type": "code",
      "metadata": {
        "id": "yIcKirtTDu4m",
        "colab_type": "code",
        "colab": {
          "base_uri": "https://localhost:8080/",
          "height": 752
        },
        "outputId": "3a3b97eb-b2b1-4c0e-c491-727417236faa"
      },
      "source": [
        "## SELU ACTIVATION\n",
        "\n",
        "model = keras.models.Sequential()\n",
        "model.add(keras.layers.Flatten(input_shape=[28, 28]))\n",
        "for _ in range(20):\n",
        "    model.add(keras.layers.Dense(100, activation=\"selu\",\n",
        "                                 kernel_initializer=\"lecun_normal\"))\n",
        "model.add(keras.layers.Dense(10, activation=\"softmax\"))\n",
        "model.compile(loss=\"sparse_categorical_crossentropy\", optimizer=keras.optimizers.SGD(1e-3),\n",
        "              metrics=[\"accuracy\"])\n",
        "history = model.fit(X_train_scaled, y_train, epochs=10,\n",
        "                    validation_data=(X_valid_scaled, y_valid))\n",
        "plot_learning_curves(history)"
      ],
      "execution_count": 18,
      "outputs": [
        {
          "output_type": "stream",
          "text": [
            "WARNING:tensorflow:From /usr/local/lib/python3.6/dist-packages/tensorflow_core/python/keras/backend.py:4277: where (from tensorflow.python.ops.array_ops) is deprecated and will be removed in a future version.\n",
            "Instructions for updating:\n",
            "Use tf.where in 2.0, which has the same broadcast rule as np.where\n",
            "Train on 55000 samples, validate on 5000 samples\n",
            "Epoch 1/10\n",
            "55000/55000 [==============================] - 14s 248us/sample - loss: 0.6804 - acc: 0.7636 - val_loss: 0.5105 - val_acc: 0.8282\n",
            "Epoch 2/10\n",
            "55000/55000 [==============================] - 12s 227us/sample - loss: 0.4600 - acc: 0.8382 - val_loss: 0.4533 - val_acc: 0.8434\n",
            "Epoch 3/10\n",
            "55000/55000 [==============================] - 13s 238us/sample - loss: 0.4050 - acc: 0.8565 - val_loss: 0.4175 - val_acc: 0.8526\n",
            "Epoch 4/10\n",
            "55000/55000 [==============================] - 13s 239us/sample - loss: 0.3718 - acc: 0.8665 - val_loss: 0.3982 - val_acc: 0.8604\n",
            "Epoch 5/10\n",
            "55000/55000 [==============================] - 13s 234us/sample - loss: 0.3484 - acc: 0.8756 - val_loss: 0.3930 - val_acc: 0.8632\n",
            "Epoch 6/10\n",
            "55000/55000 [==============================] - 13s 237us/sample - loss: 0.3307 - acc: 0.8827 - val_loss: 0.3742 - val_acc: 0.8688\n",
            "Epoch 7/10\n",
            "55000/55000 [==============================] - 14s 247us/sample - loss: 0.3142 - acc: 0.8868 - val_loss: 0.3779 - val_acc: 0.8660\n",
            "Epoch 8/10\n",
            "55000/55000 [==============================] - 13s 244us/sample - loss: 0.3016 - acc: 0.8906 - val_loss: 0.3687 - val_acc: 0.8752\n",
            "Epoch 9/10\n",
            "55000/55000 [==============================] - 13s 233us/sample - loss: 0.2898 - acc: 0.8960 - val_loss: 0.3675 - val_acc: 0.8726\n",
            "Epoch 10/10\n",
            "55000/55000 [==============================] - 13s 229us/sample - loss: 0.2793 - acc: 0.8980 - val_loss: 0.3673 - val_acc: 0.8756\n"
          ],
          "name": "stdout"
        },
        {
          "output_type": "display_data",
          "data": {
            "image/png": "[encoded data removed]",
            "text/plain": [
              "<Figure size 576x360 with 1 Axes>"
            ]
          },
          "metadata": {
            "tags": []
          }
        }
      ]
    },
    {
      "cell_type": "markdown",
      "metadata": {
        "id": "ldbst7w1GQNm",
        "colab_type": "text"
      },
      "source": [
        "Train for 10 more epochs"
      ]
    },
    {
      "cell_type": "code",
      "metadata": {
        "id": "aNQXv8hdEKsd",
        "colab_type": "code",
        "colab": {
          "base_uri": "https://localhost:8080/",
          "height": 681
        },
        "outputId": "838721e2-7960-4530-d0bc-ab260a20f33a"
      },
      "source": [
        "history = model.fit(X_train_scaled, y_train, epochs=10,\n",
        "                    validation_data=(X_valid_scaled, y_valid))\n",
        "plot_learning_curves(history)"
      ],
      "execution_count": 19,
      "outputs": [
        {
          "output_type": "stream",
          "text": [
            "Train on 55000 samples, validate on 5000 samples\n",
            "Epoch 1/10\n",
            "55000/55000 [==============================] - 11s 194us/sample - loss: 0.2700 - acc: 0.9035 - val_loss: 0.3616 - val_acc: 0.8778\n",
            "Epoch 2/10\n",
            "55000/55000 [==============================] - 10s 191us/sample - loss: 0.2613 - acc: 0.9049 - val_loss: 0.3597 - val_acc: 0.8766\n",
            "Epoch 3/10\n",
            "55000/55000 [==============================] - 11s 192us/sample - loss: 0.2523 - acc: 0.9092 - val_loss: 0.3571 - val_acc: 0.8760\n",
            "Epoch 4/10\n",
            "55000/55000 [==============================] - 11s 200us/sample - loss: 0.2443 - acc: 0.9117 - val_loss: 0.3650 - val_acc: 0.8756\n",
            "Epoch 5/10\n",
            "55000/55000 [==============================] - 11s 195us/sample - loss: 0.2375 - acc: 0.9139 - val_loss: 0.3680 - val_acc: 0.8724\n",
            "Epoch 6/10\n",
            "55000/55000 [==============================] - 11s 194us/sample - loss: 0.2301 - acc: 0.9161 - val_loss: 0.3675 - val_acc: 0.8744\n",
            "Epoch 7/10\n",
            "55000/55000 [==============================] - 10s 189us/sample - loss: 0.2237 - acc: 0.9195 - val_loss: 0.3668 - val_acc: 0.8730\n",
            "Epoch 8/10\n",
            "55000/55000 [==============================] - 10s 189us/sample - loss: 0.2176 - acc: 0.9211 - val_loss: 0.3666 - val_acc: 0.8766\n",
            "Epoch 9/10\n",
            "55000/55000 [==============================] - 10s 188us/sample - loss: 0.2115 - acc: 0.9231 - val_loss: 0.3709 - val_acc: 0.8748\n",
            "Epoch 10/10\n",
            "55000/55000 [==============================] - 10s 187us/sample - loss: 0.2045 - acc: 0.9267 - val_loss: 0.3755 - val_acc: 0.8764\n"
          ],
          "name": "stdout"
        },
        {
          "output_type": "display_data",
          "data": {
            "image/png": "[encoded data removed]",
            "text/plain": [
              "<Figure size 576x360 with 1 Axes>"
            ]
          },
          "metadata": {
            "tags": []
          }
        }
      ]
    },
    {
      "cell_type": "code",
      "metadata": {
        "id": "AgJqagAQGXUI",
        "colab_type": "code",
        "colab": {}
      },
      "source": [
        ""
      ],
      "execution_count": 0,
      "outputs": []
    },
    {
      "cell_type": "markdown",
      "metadata": {
        "id": "xDUzRLTBGdd7",
        "colab_type": "text"
      },
      "source": [
        "ADD reguralization as model is overfitting with 10 more epochs. Put Dropout layer. Using Alphadroupout, as using Alpha Normalization."
      ]
    },
    {
      "cell_type": "code",
      "metadata": {
        "id": "LJU4TOe2GjYC",
        "colab_type": "code",
        "colab": {
          "base_uri": "https://localhost:8080/",
          "height": 1000
        },
        "outputId": "4a67db28-c6ae-4deb-b7c4-89d1ac9c4747"
      },
      "source": [
        "model = keras.models.Sequential()\n",
        "model.add(keras.layers.Flatten(input_shape=[28, 28]))\n",
        "for _ in range(20):\n",
        "    model.add(keras.layers.Dense(100, activation=\"selu\",\n",
        "                                 kernel_initializer=\"lecun_normal\"))\n",
        "model.add(keras.layers.AlphaDropout(rate=0.5))\n",
        "model.add(keras.layers.Dense(10, activation=\"softmax\"))\n",
        "model.compile(loss=\"sparse_categorical_crossentropy\", optimizer=keras.optimizers.SGD(1e-3),\n",
        "              metrics=[\"accuracy\"])\n",
        "\n"
      ],
      "execution_count": 20,
      "outputs": [
        {
          "output_type": "stream",
          "text": [
            "Train on 55000 samples, validate on 5000 samples\n",
            "Epoch 1/20\n",
            "55000/55000 [==============================] - 12s 211us/sample - loss: 1.1772 - acc: 0.6151 - val_loss: 0.7431 - val_acc: 0.8162\n",
            "Epoch 2/20\n",
            "55000/55000 [==============================] - 11s 194us/sample - loss: 0.6665 - acc: 0.7886 - val_loss: 0.6924 - val_acc: 0.8422\n",
            "Epoch 3/20\n",
            "55000/55000 [==============================] - 11s 193us/sample - loss: 0.5571 - acc: 0.8232 - val_loss: 0.6654 - val_acc: 0.8570\n",
            "Epoch 4/20\n",
            "55000/55000 [==============================] - 11s 196us/sample - loss: 0.4961 - acc: 0.8395 - val_loss: 0.6217 - val_acc: 0.8636\n",
            "Epoch 5/20\n",
            "55000/55000 [==============================] - 11s 198us/sample - loss: 0.4563 - acc: 0.8519 - val_loss: 0.6384 - val_acc: 0.8622\n",
            "Epoch 6/20\n",
            "55000/55000 [==============================] - 12s 218us/sample - loss: 0.4284 - acc: 0.8602 - val_loss: 0.5905 - val_acc: 0.8666\n",
            "Epoch 7/20\n",
            "55000/55000 [==============================] - 11s 198us/sample - loss: 0.4067 - acc: 0.8661 - val_loss: 0.5973 - val_acc: 0.8680\n",
            "Epoch 8/20\n",
            "55000/55000 [==============================] - 11s 201us/sample - loss: 0.3890 - acc: 0.8723 - val_loss: 0.5897 - val_acc: 0.8728\n",
            "Epoch 9/20\n",
            "55000/55000 [==============================] - 11s 203us/sample - loss: 0.3724 - acc: 0.8775 - val_loss: 0.6104 - val_acc: 0.8752\n",
            "Epoch 10/20\n",
            "55000/55000 [==============================] - 11s 199us/sample - loss: 0.3586 - acc: 0.8822 - val_loss: 0.5957 - val_acc: 0.8740\n",
            "Epoch 11/20\n",
            "55000/55000 [==============================] - 11s 204us/sample - loss: 0.3419 - acc: 0.8862 - val_loss: 0.6026 - val_acc: 0.8750\n",
            "Epoch 12/20\n",
            "55000/55000 [==============================] - 11s 198us/sample - loss: 0.3342 - acc: 0.8877 - val_loss: 0.5794 - val_acc: 0.8800\n",
            "Epoch 13/20\n",
            "55000/55000 [==============================] - 11s 200us/sample - loss: 0.3218 - acc: 0.8930 - val_loss: 0.5922 - val_acc: 0.8830\n",
            "Epoch 14/20\n",
            "55000/55000 [==============================] - 11s 195us/sample - loss: 0.3120 - acc: 0.8951 - val_loss: 0.6027 - val_acc: 0.8808\n",
            "Epoch 15/20\n",
            "55000/55000 [==============================] - 11s 194us/sample - loss: 0.3044 - acc: 0.8971 - val_loss: 0.5916 - val_acc: 0.8828\n",
            "Epoch 16/20\n",
            "55000/55000 [==============================] - 11s 201us/sample - loss: 0.2967 - acc: 0.8994 - val_loss: 0.5877 - val_acc: 0.8844\n",
            "Epoch 17/20\n",
            "55000/55000 [==============================] - 11s 197us/sample - loss: 0.2875 - acc: 0.9025 - val_loss: 0.6247 - val_acc: 0.8794\n",
            "Epoch 18/20\n",
            "55000/55000 [==============================] - 11s 198us/sample - loss: 0.2813 - acc: 0.9044 - val_loss: 0.6043 - val_acc: 0.8840\n",
            "Epoch 19/20\n",
            "55000/55000 [==============================] - 11s 197us/sample - loss: 0.2754 - acc: 0.9068 - val_loss: 0.6055 - val_acc: 0.8834\n",
            "Epoch 20/20\n",
            "55000/55000 [==============================] - 11s 209us/sample - loss: 0.2677 - acc: 0.9087 - val_loss: 0.6269 - val_acc: 0.8806\n"
          ],
          "name": "stdout"
        },
        {
          "output_type": "display_data",
          "data": {
            "image/png": "[encoded data removed]",
            "text/plain": [
              "<Figure size 576x360 with 1 Axes>"
            ]
          },
          "metadata": {
            "tags": []
          }
        }
      ]
    },
    {
      "cell_type": "code",
      "metadata": {
        "id": "LwxpfZIMHB7u",
        "colab_type": "code",
        "colab": {}
      },
      "source": [
        "history = model.fit(X_train_scaled, y_train, epochs=20,\n",
        "                    validation_data=(X_valid_scaled, y_valid))"
      ],
      "execution_count": 0,
      "outputs": []
    },
    {
      "cell_type": "code",
      "metadata": {
        "id": "nDdCjuGIHFqZ",
        "colab_type": "code",
        "colab": {}
      },
      "source": [
        "plot_learning_curves(history)\n"
      ],
      "execution_count": 0,
      "outputs": []
    }
  ]
}