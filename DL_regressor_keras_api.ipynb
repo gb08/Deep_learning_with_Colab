{
  "nbformat": 4,
  "nbformat_minor": 0,
  "metadata": {
    "colab": {
      "name": "DL_regressor_keras_api.ipynb",
      "provenance": [],
      "collapsed_sections": [],
      "include_colab_link": true
    },
    "kernelspec": {
      "name": "python3",
      "display_name": "Python 3"
    },
    "accelerator": "GPU"
  },
  "cells": [
    {
      "cell_type": "markdown",
      "metadata": {
        "id": "view-in-github",
        "colab_type": "text"
      },
      "source": [
        "<a href=\"https://colab.research.google.com/github/gb08/Deep_learning_with_Colab/blob/master/DL_regressor_keras_api.ipynb\" target=\"_parent\"><img src=\"https://colab.research.google.com/assets/colab-badge.svg\" alt=\"Open In Colab\"/></a>"
      ]
    },
    {
      "cell_type": "code",
      "metadata": {
        "id": "s2sqj1Q_Ux1-",
        "colab_type": "code",
        "colab": {}
      },
      "source": [
        "from google.colab import drive"
      ],
      "execution_count": 0,
      "outputs": []
    },
    {
      "cell_type": "code",
      "metadata": {
        "id": "7o228hlUVAbM",
        "colab_type": "code",
        "colab": {}
      },
      "source": [
        "import matplotlib as mpl\n",
        "import matplotlib.pyplot as plt\n",
        "import numpy as np\n",
        "import os\n",
        "import pandas as pd\n",
        "import sklearn\n",
        "import sys\n",
        "import tensorflow as tf\n",
        "from tensorflow import keras  # tf.keras\n",
        "import time"
      ],
      "execution_count": 0,
      "outputs": []
    },
    {
      "cell_type": "code",
      "metadata": {
        "id": "a0chllmKVCrz",
        "colab_type": "code",
        "colab": {}
      },
      "source": [
        "from sklearn.model_selection import train_test_split\n",
        "from sklearn.preprocessing import StandardScaler\n",
        "from sklearn.datasets import fetch_california_housing"
      ],
      "execution_count": 0,
      "outputs": []
    },
    {
      "cell_type": "code",
      "metadata": {
        "id": "H0NRIfjmb2ak",
        "colab_type": "code",
        "colab": {
          "base_uri": "https://localhost:8080/",
          "height": 34
        },
        "outputId": "ccab8a36-56c3-414a-aa27-4d352e9be653"
      },
      "source": [
        "!ls /content/gdrive/My\\ Drive/dl_reg_keras_api"
      ],
      "execution_count": 14,
      "outputs": [
        {
          "output_type": "stream",
          "text": [
            "ls: cannot access '/content/gdrive/My Drive/dl_reg_keras_api': No such file or directory\n"
          ],
          "name": "stdout"
        }
      ]
    },
    {
      "cell_type": "code",
      "metadata": {
        "id": "bihysNZ_VEfR",
        "colab_type": "code",
        "colab": {
          "base_uri": "https://localhost:8080/",
          "height": 122
        },
        "outputId": "0f024847-afc8-4707-9eed-748f13c70b23"
      },
      "source": [
        "drive.mount('/content/gdrive')\n",
        "#!ls gdrive/My\\ Drive\n",
        "\n",
        "model_path = '/content/gdrive/My\\ Drive/dl_reg_keras_api'"
      ],
      "execution_count": 15,
      "outputs": [
        {
          "output_type": "stream",
          "text": [
            "Go to this URL in a browser: https://accounts.google.com/o/oauth2/auth?client_id=947318989803-6bn6qk8qdgf4n4g3pfee6491hc0brc4i.apps.googleusercontent.com&redirect_uri=urn%3aietf%3awg%3aoauth%3a2.0%3aoob&response_type=code&scope=email%20https%3a%2f%2fwww.googleapis.com%2fauth%2fdocs.test%20https%3a%2f%2fwww.googleapis.com%2fauth%2fdrive%20https%3a%2f%2fwww.googleapis.com%2fauth%2fdrive.photos.readonly%20https%3a%2f%2fwww.googleapis.com%2fauth%2fpeopleapi.readonly\n",
            "\n",
            "Enter your authorization code:\n",
            "··········\n",
            "Mounted at /content/gdrive\n"
          ],
          "name": "stdout"
        }
      ]
    },
    {
      "cell_type": "code",
      "metadata": {
        "id": "quDmGgWOVkSL",
        "colab_type": "code",
        "colab": {}
      },
      "source": [
        "%matplotlib inline\n",
        "%load_ext tensorboard"
      ],
      "execution_count": 0,
      "outputs": []
    },
    {
      "cell_type": "markdown",
      "metadata": {
        "id": "LuPmyDsLVOcE",
        "colab_type": "text"
      },
      "source": [
        "Fetch Dataset"
      ]
    },
    {
      "cell_type": "code",
      "metadata": {
        "id": "u-TzxOdDViRJ",
        "colab_type": "code",
        "outputId": "a5f80cc1-2696-4d9b-846e-b697f70d58e5",
        "colab": {
          "base_uri": "https://localhost:8080/",
          "height": 34
        }
      },
      "source": [
        "\n",
        "fetch_california_housing = fetch_california_housing()"
      ],
      "execution_count": 17,
      "outputs": [
        {
          "output_type": "stream",
          "text": [
            "Downloading Cal. housing from https://ndownloader.figshare.com/files/5976036 to /root/scikit_learn_data\n"
          ],
          "name": "stderr"
        }
      ]
    },
    {
      "cell_type": "code",
      "metadata": {
        "id": "fquJMq1HVngU",
        "colab_type": "code",
        "colab": {}
      },
      "source": [
        "X = fetch_california_housing.data\n",
        "Y = fetch_california_housing.target"
      ],
      "execution_count": 0,
      "outputs": []
    },
    {
      "cell_type": "code",
      "metadata": {
        "id": "jSuIll8YVxip",
        "colab_type": "code",
        "colab": {}
      },
      "source": [
        "X_train, X_test, y_train, y_test = train_test_split(X, Y, test_size=0.2)\n",
        "X_train, X_val, y_train, y_val = train_test_split(X_train, y_train, test_size=0.4)"
      ],
      "execution_count": 0,
      "outputs": []
    },
    {
      "cell_type": "code",
      "metadata": {
        "id": "LA6WP9uPV2qx",
        "colab_type": "code",
        "outputId": "3aa45bc9-0b99-4fa0-d6cf-3047c2392920",
        "colab": {
          "base_uri": "https://localhost:8080/",
          "height": 34
        }
      },
      "source": [
        "X.shape, X_train.shape, X_val.shape, X_test.shape"
      ],
      "execution_count": 20,
      "outputs": [
        {
          "output_type": "execute_result",
          "data": {
            "text/plain": [
              "((20640, 8), (9907, 8), (6605, 8), (4128, 8))"
            ]
          },
          "metadata": {
            "tags": []
          },
          "execution_count": 20
        }
      ]
    },
    {
      "cell_type": "code",
      "metadata": {
        "id": "VbLXc9CfV4ov",
        "colab_type": "code",
        "colab": {}
      },
      "source": [
        "scaler = StandardScaler()\n",
        "X_train_scaled = scaler.fit_transform(X_train)"
      ],
      "execution_count": 0,
      "outputs": []
    },
    {
      "cell_type": "code",
      "metadata": {
        "id": "LMi8GrYmV8v6",
        "colab_type": "code",
        "colab": {}
      },
      "source": [
        "X_val_scaled = scaler.transform(X_val)\n",
        "X_test_scaled = scaler.transform(X_test)"
      ],
      "execution_count": 0,
      "outputs": []
    },
    {
      "cell_type": "markdown",
      "metadata": {
        "id": "4VZ-4VSUbHAi",
        "colab_type": "text"
      },
      "source": [
        "## FUNCTIONAL API ##"
      ]
    },
    {
      "cell_type": "code",
      "metadata": {
        "id": "WXzVjOAVV_FH",
        "colab_type": "code",
        "colab": {}
      },
      "source": [
        "input_layer = keras.layers.Input(shape=(8,))"
      ],
      "execution_count": 0,
      "outputs": []
    },
    {
      "cell_type": "code",
      "metadata": {
        "id": "xt_ogwptW3YK",
        "colab_type": "code",
        "outputId": "a17aaf37-1457-441e-b5fb-7efeb6b41051",
        "colab": {
          "base_uri": "https://localhost:8080/",
          "height": 88
        }
      },
      "source": [
        "hidden1 = keras.layers.Dense(30, activation=\"relu\")(input_layer) \n",
        "hidden2 = keras.layers.Dense(30, activation=\"relu\")(hidden1)"
      ],
      "execution_count": 24,
      "outputs": [
        {
          "output_type": "stream",
          "text": [
            "WARNING:tensorflow:From /usr/local/lib/python3.6/dist-packages/tensorflow_core/python/ops/resource_variable_ops.py:1630: calling BaseResourceVariable.__init__ (from tensorflow.python.ops.resource_variable_ops) with constraint is deprecated and will be removed in a future version.\n",
            "Instructions for updating:\n",
            "If using Keras pass *_constraint arguments to layers.\n"
          ],
          "name": "stdout"
        }
      ]
    },
    {
      "cell_type": "code",
      "metadata": {
        "id": "vN6s2tdcW_Ci",
        "colab_type": "code",
        "colab": {}
      },
      "source": [
        "concat_layer = keras.layers.concatenate(inputs=[input_layer, hidden2]) "
      ],
      "execution_count": 0,
      "outputs": []
    },
    {
      "cell_type": "code",
      "metadata": {
        "id": "gEcyustQYPKD",
        "colab_type": "code",
        "colab": {}
      },
      "source": [
        "output_layer = keras.layers.Dense(1)(concat_layer)"
      ],
      "execution_count": 0,
      "outputs": []
    },
    {
      "cell_type": "code",
      "metadata": {
        "id": "B8swY0IaXjoV",
        "colab_type": "code",
        "colab": {}
      },
      "source": [
        "model = keras.models.Model(inputs=[input_layer], outputs=[output_layer])"
      ],
      "execution_count": 0,
      "outputs": []
    },
    {
      "cell_type": "code",
      "metadata": {
        "id": "xaQP0dKFYCFV",
        "colab_type": "code",
        "colab": {}
      },
      "source": [
        "model.compile(optimizer=keras.optimizers.SGD(learning_rate=(1e-3)), loss = \"mean_squared_error\")"
      ],
      "execution_count": 0,
      "outputs": []
    },
    {
      "cell_type": "code",
      "metadata": {
        "id": "pO8IFdERZHfD",
        "colab_type": "code",
        "outputId": "1851790b-a284-450e-c246-5cb21cd6e9f9",
        "colab": {
          "base_uri": "https://localhost:8080/",
          "height": 340
        }
      },
      "source": [
        "model.summary()"
      ],
      "execution_count": 29,
      "outputs": [
        {
          "output_type": "stream",
          "text": [
            "Model: \"model\"\n",
            "__________________________________________________________________________________________________\n",
            "Layer (type)                    Output Shape         Param #     Connected to                     \n",
            "==================================================================================================\n",
            "input_1 (InputLayer)            [(None, 8)]          0                                            \n",
            "__________________________________________________________________________________________________\n",
            "dense (Dense)                   (None, 30)           270         input_1[0][0]                    \n",
            "__________________________________________________________________________________________________\n",
            "dense_1 (Dense)                 (None, 30)           930         dense[0][0]                      \n",
            "__________________________________________________________________________________________________\n",
            "concatenate (Concatenate)       (None, 38)           0           input_1[0][0]                    \n",
            "                                                                 dense_1[0][0]                    \n",
            "__________________________________________________________________________________________________\n",
            "dense_2 (Dense)                 (None, 1)            39          concatenate[0][0]                \n",
            "==================================================================================================\n",
            "Total params: 1,239\n",
            "Trainable params: 1,239\n",
            "Non-trainable params: 0\n",
            "__________________________________________________________________________________________________\n"
          ],
          "name": "stdout"
        }
      ]
    },
    {
      "cell_type": "code",
      "metadata": {
        "id": "TJCJQVSzZU-o",
        "colab_type": "code",
        "outputId": "00f4af0c-1fce-423e-ae33-dbb5d1be3fb6",
        "colab": {
          "base_uri": "https://localhost:8080/",
          "height": 374
        }
      },
      "source": [
        "history = model.fit(x=X_train_scaled, y=y_train, epochs=10, \n",
        "                    validation_data=(X_val_scaled, y_val))"
      ],
      "execution_count": 30,
      "outputs": [
        {
          "output_type": "stream",
          "text": [
            "Train on 9907 samples, validate on 6605 samples\n",
            "Epoch 1/10\n",
            "9907/9907 [==============================] - 6s 586us/sample - loss: 2.4327 - val_loss: 1.0041\n",
            "Epoch 2/10\n",
            "9907/9907 [==============================] - 1s 111us/sample - loss: 0.9226 - val_loss: 0.7807\n",
            "Epoch 3/10\n",
            "9907/9907 [==============================] - 1s 111us/sample - loss: 0.7430 - val_loss: 0.6899\n",
            "Epoch 4/10\n",
            "9907/9907 [==============================] - 1s 112us/sample - loss: 0.6785 - val_loss: 0.6415\n",
            "Epoch 5/10\n",
            "9907/9907 [==============================] - 1s 112us/sample - loss: 0.6382 - val_loss: 0.6065\n",
            "Epoch 6/10\n",
            "9907/9907 [==============================] - 1s 109us/sample - loss: 0.6076 - val_loss: 0.5818\n",
            "Epoch 7/10\n",
            "9907/9907 [==============================] - 1s 112us/sample - loss: 0.5844 - val_loss: 0.5620\n",
            "Epoch 8/10\n",
            "9907/9907 [==============================] - 1s 112us/sample - loss: 0.5652 - val_loss: 0.5454\n",
            "Epoch 9/10\n",
            "9907/9907 [==============================] - 1s 114us/sample - loss: 0.5485 - val_loss: 0.5300\n",
            "Epoch 10/10\n",
            "9907/9907 [==============================] - 1s 107us/sample - loss: 0.5371 - val_loss: 0.5196\n"
          ],
          "name": "stdout"
        }
      ]
    },
    {
      "cell_type": "code",
      "metadata": {
        "id": "94ZB_R0oaJoK",
        "colab_type": "code",
        "colab": {}
      },
      "source": [
        "def plot_learning_curves(history):\n",
        "    pd.DataFrame(history.history).plot(figsize=(8, 5))\n",
        "    plt.grid(True)\n",
        "    plt.gca().set_ylim(0, 1)\n",
        "    plt.show()"
      ],
      "execution_count": 0,
      "outputs": []
    },
    {
      "cell_type": "code",
      "metadata": {
        "id": "LOsImLJvaPUr",
        "colab_type": "code",
        "outputId": "c3515411-2f50-46ff-c69c-fee2981b590c",
        "colab": {
          "base_uri": "https://localhost:8080/",
          "height": 324
        }
      },
      "source": [
        "plot_learning_curves(history)"
      ],
      "execution_count": 32,
      "outputs": [
        {
          "output_type": "display_data",
          "data": {
            "image/png": "[encoded data removed]",
            "text/plain": [
              "<Figure size 576x360 with 1 Axes>"
            ]
          },
          "metadata": {
            "tags": []
          }
        }
      ]
    },
    {
      "cell_type": "code",
      "metadata": {
        "id": "uAuZgDLVaS1y",
        "colab_type": "code",
        "outputId": "374bc8b8-32b6-47a9-8d0d-792b7c1abf27",
        "colab": {
          "base_uri": "https://localhost:8080/",
          "height": 51
        }
      },
      "source": [
        "model.evaluate(x=X_test_scaled, y=y_test)"
      ],
      "execution_count": 33,
      "outputs": [
        {
          "output_type": "stream",
          "text": [
            "4128/4128 [==============================] - 0s 44us/sample - loss: 0.5415\n"
          ],
          "name": "stdout"
        },
        {
          "output_type": "execute_result",
          "data": {
            "text/plain": [
              "0.5414569466844086"
            ]
          },
          "metadata": {
            "tags": []
          },
          "execution_count": 33
        }
      ]
    },
    {
      "cell_type": "code",
      "metadata": {
        "id": "j_trlKSsafDU",
        "colab_type": "code",
        "outputId": "ccd8936f-e918-40ff-db4f-dfb4ba919dc8",
        "colab": {
          "base_uri": "https://localhost:8080/",
          "height": 170
        }
      },
      "source": [
        "model.predict(X_test[1:10])"
      ],
      "execution_count": 34,
      "outputs": [
        {
          "output_type": "execute_result",
          "data": {
            "text/plain": [
              "array([[118.37925 ],\n",
              "       [224.2009  ],\n",
              "       [472.54922 ],\n",
              "       [ 84.209305],\n",
              "       [117.81774 ],\n",
              "       [226.45645 ],\n",
              "       [168.8139  ],\n",
              "       [125.441284],\n",
              "       [162.72238 ]], dtype=float32)"
            ]
          },
          "metadata": {
            "tags": []
          },
          "execution_count": 34
        }
      ]
    },
    {
      "cell_type": "code",
      "metadata": {
        "id": "fon-K6W9cgFV",
        "colab_type": "code",
        "outputId": "302aca55-c393-438b-a98f-e203147ab465",
        "colab": {
          "base_uri": "https://localhost:8080/",
          "height": 1000
        }
      },
      "source": [
        "!ls /content/gdrive/My\\ Drive/"
      ],
      "execution_count": 35,
      "outputs": [
        {
          "output_type": "stream",
          "text": [
            " Amazon_Review\n",
            " char_level_model_500_epoch.h5\n",
            " char_level_model.h5\n",
            "'clean_data (1).csv'\n",
            "'clean_data (2).csv'\n",
            " clean_data.csv\n",
            " cleaned_normalized_data.csv\n",
            "'Colab Notebooks'\n",
            "'CV_Gayatri_Bhoyar (1).docx'\n",
            "'CV_Gayatri_Bhoyar (2).docx'\n",
            " CV_Gayatri_Bhoyar.docx\n",
            " CV_Gayatri_Bhoyar.gdoc\n",
            "'CV_Gayatri Bhoyar Proficient Perl Developer.docx'\n",
            "'CV_Gayatri Bhoyar Proficient Perl Developer.docx.gdoc'\n",
            " Data\n",
            " data-simplification.tar.bz2\n",
            " dictionary.pickle\n",
            " dl_reg_keras_api\n",
            " dl_reg-keras_api\n",
            " dress\n",
            " drug_dataset_cleaned.csv\n",
            "'drugname_stopwords (1).csv'\n",
            "'drugname_stopwords (2).csv'\n",
            " drugname_stopwords.csv\n",
            " drug_review_lstm_model_10.h5\n",
            " drug_review_lstm_model_1.h5\n",
            " drug_review_lstm_model_2.h5\n",
            " drug_review_lstm_model.json\n",
            " drug_review_lstm_model_weights_1.h5\n",
            " drug_review_lstm_model_weights_2.h5\n",
            " drug_review_lstm_model_weights.h5\n",
            "'EAF India Recruitment_V6.2.gdoc'\n",
            " early_weights_char_level_500_epoch.hdf5\n",
            " en_model_lg\n",
            "'Gayatri Bhoyar_CV.gdoc'\n",
            "'Gayatri Bhoyar.gsheet'\n",
            " Gb\n",
            " lstm_model_2.h5\n",
            "'New Doc 2017-11-04 (1)_1.pdf'\n",
            " output\n",
            " output.html\n",
            "'PAN CARD.pdf'\n",
            " pipeline_rf.pkl\n",
            " posting123.zip\n",
            " pre-trained-models.tar.bz2\n",
            " Recipes\n",
            " Resume.docx\n",
            " Resume.gdoc\n",
            " resume_vinod.doc.gdoc\n",
            " rf_binary_pipeline.pickle\n",
            " rf_binary_pipeline_rt.pickle\n",
            " rf_model_pipeline_b.pickle\n",
            " rf_pipeline_b.pickle\n",
            " rf_pipeline_ng_4.pickle\n",
            " rf_pipeline_ng_4_sp.pickle\n",
            " rf_pipeline_ng_b.pickle\n",
            " Software-Engineer-Resume-Sample_Hybrid-Original.gdoc\n",
            " tensorflow_model_1\n",
            " test_b.pickle\n",
            " tokenizer_drug_data_1.pickle\n",
            " tokenizer_drug_data.pickle\n",
            " torch.tgz\n",
            " UCI_Drug_Review\n",
            "'Untitled drawing.gdraw'\n",
            "'vinod resume.doc'\n",
            " Wipro_CAM_Form_6465420.pdf\n",
            "'Word embeddings'\n"
          ],
          "name": "stdout"
        }
      ]
    },
    {
      "cell_type": "code",
      "metadata": {
        "id": "VfaPie5Uana4",
        "colab_type": "code",
        "colab": {}
      },
      "source": [
        "model.save('dl_reg_keras_func_api.h5')"
      ],
      "execution_count": 0,
      "outputs": []
    },
    {
      "cell_type": "markdown",
      "metadata": {
        "id": "XMmptFO4bPg4",
        "colab_type": "text"
      },
      "source": [
        "## SUBCLASSING API ##"
      ]
    },
    {
      "cell_type": "code",
      "metadata": {
        "id": "gBQEuuQQbV_M",
        "colab_type": "code",
        "colab": {}
      },
      "source": [
        "class MyModel(keras.models.Model):\n",
        "    def __init__(self):\n",
        "        super(MyModel, self).__init__()\n",
        "        self.hidden1 = keras.layers.Dense(40, activation=\"relu\")\n",
        "        self.hidden2 = keras.layers.Dense(40, activation=\"relu\")\n",
        "        self.output_ = keras.layers.Dense(1)\n",
        "\n",
        "    def call(self, input):\n",
        "        hidden1 = self.hidden1(input)\n",
        "        hidden2 = self.hidden2(hidden1)\n",
        "        concat = keras.layers.concatenate([input, hidden2])\n",
        "        output = self.output_(concat)\n",
        "        return output\n",
        "\n"
      ],
      "execution_count": 0,
      "outputs": []
    },
    {
      "cell_type": "code",
      "metadata": {
        "id": "zN6oVOFwcYYD",
        "colab_type": "code",
        "colab": {}
      },
      "source": [
        "model = MyModel()"
      ],
      "execution_count": 0,
      "outputs": []
    },
    {
      "cell_type": "code",
      "metadata": {
        "id": "z5WKQsA-cuyj",
        "colab_type": "code",
        "colab": {}
      },
      "source": [
        ""
      ],
      "execution_count": 0,
      "outputs": []
    },
    {
      "cell_type": "code",
      "metadata": {
        "id": "mi1viLtycZM5",
        "colab_type": "code",
        "colab": {}
      },
      "source": [
        "model.compile(loss=\"mse\", optimizer=keras.optimizers.SGD(1e-3))\n"
      ],
      "execution_count": 0,
      "outputs": []
    },
    {
      "cell_type": "markdown",
      "metadata": {
        "id": "8sxaOzLocc_5",
        "colab_type": "text"
      },
      "source": [
        "\n"
      ]
    },
    {
      "cell_type": "code",
      "metadata": {
        "id": "9MOTviaCczXE",
        "colab_type": "code",
        "colab": {
          "base_uri": "https://localhost:8080/",
          "height": 374
        },
        "outputId": "bdc6fac4-fa77-4ca2-e90d-f21a9c163a5d"
      },
      "source": [
        "history = model.fit(X_train_scaled, y_train, epochs=10,\n",
        "                    validation_data=(X_val_scaled, y_val))"
      ],
      "execution_count": 41,
      "outputs": [
        {
          "output_type": "stream",
          "text": [
            "Train on 9907 samples, validate on 6605 samples\n",
            "Epoch 1/10\n",
            "9907/9907 [==============================] - 1s 119us/sample - loss: 2.3165 - val_loss: 0.8748\n",
            "Epoch 2/10\n",
            "9907/9907 [==============================] - 1s 112us/sample - loss: 0.7751 - val_loss: 0.7206\n",
            "Epoch 3/10\n",
            "9907/9907 [==============================] - 1s 107us/sample - loss: 0.6887 - val_loss: 0.6627\n",
            "Epoch 4/10\n",
            "9907/9907 [==============================] - 1s 107us/sample - loss: 0.6440 - val_loss: 0.6255\n",
            "Epoch 5/10\n",
            "9907/9907 [==============================] - 1s 110us/sample - loss: 0.6132 - val_loss: 0.5975\n",
            "Epoch 6/10\n",
            "9907/9907 [==============================] - 1s 109us/sample - loss: 0.5886 - val_loss: 0.5747\n",
            "Epoch 7/10\n",
            "9907/9907 [==============================] - 1s 109us/sample - loss: 0.5699 - val_loss: 0.5575\n",
            "Epoch 8/10\n",
            "9907/9907 [==============================] - 1s 107us/sample - loss: 0.5536 - val_loss: 0.5446\n",
            "Epoch 9/10\n",
            "9907/9907 [==============================] - 1s 109us/sample - loss: 0.5393 - val_loss: 0.5307\n",
            "Epoch 10/10\n",
            "9907/9907 [==============================] - 1s 108us/sample - loss: 0.5292 - val_loss: 0.5211\n"
          ],
          "name": "stdout"
        }
      ]
    },
    {
      "cell_type": "code",
      "metadata": {
        "id": "cdwzhNeac7tX",
        "colab_type": "code",
        "colab": {
          "base_uri": "https://localhost:8080/",
          "height": 255
        },
        "outputId": "7e88b229-7603-4d40-faf6-c94cdab5a90c"
      },
      "source": [
        "model.summary()\n"
      ],
      "execution_count": 42,
      "outputs": [
        {
          "output_type": "stream",
          "text": [
            "Model: \"my_model\"\n",
            "_________________________________________________________________\n",
            "Layer (type)                 Output Shape              Param #   \n",
            "=================================================================\n",
            "dense_3 (Dense)              multiple                  360       \n",
            "_________________________________________________________________\n",
            "dense_4 (Dense)              multiple                  1640      \n",
            "_________________________________________________________________\n",
            "dense_5 (Dense)              multiple                  49        \n",
            "=================================================================\n",
            "Total params: 2,049\n",
            "Trainable params: 2,049\n",
            "Non-trainable params: 0\n",
            "_________________________________________________________________\n"
          ],
          "name": "stdout"
        }
      ]
    },
    {
      "cell_type": "code",
      "metadata": {
        "id": "Ih3PWwUlc-QF",
        "colab_type": "code",
        "colab": {
          "base_uri": "https://localhost:8080/",
          "height": 51
        },
        "outputId": "16a5497c-d3d1-4582-a063-6ec550e930cc"
      },
      "source": [
        "model.evaluate(X_test_scaled, y_test)\n"
      ],
      "execution_count": 43,
      "outputs": [
        {
          "output_type": "stream",
          "text": [
            "4128/4128 [==============================] - 0s 45us/sample - loss: 0.5380\n"
          ],
          "name": "stdout"
        },
        {
          "output_type": "execute_result",
          "data": {
            "text/plain": [
              "0.5380092978246452"
            ]
          },
          "metadata": {
            "tags": []
          },
          "execution_count": 43
        }
      ]
    },
    {
      "cell_type": "code",
      "metadata": {
        "id": "34HOYXpbdA3W",
        "colab_type": "code",
        "colab": {
          "base_uri": "https://localhost:8080/",
          "height": 34
        },
        "outputId": "c5e00c0b-8649-4de7-95a8-d3280a18e904"
      },
      "source": [
        "model.save('dl_reg_keras_succl_api', save_format='tf')"
      ],
      "execution_count": 45,
      "outputs": [
        {
          "output_type": "stream",
          "text": [
            "INFO:tensorflow:Assets written to: dl_reg_keras_succl_api/assets\n"
          ],
          "name": "stdout"
        }
      ]
    },
    {
      "cell_type": "code",
      "metadata": {
        "id": "KwS0CiGNhlAV",
        "colab_type": "code",
        "colab": {}
      },
      "source": [
        ""
      ],
      "execution_count": 0,
      "outputs": []
    }
  ]
}