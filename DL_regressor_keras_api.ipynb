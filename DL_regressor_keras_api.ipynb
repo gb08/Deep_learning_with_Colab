{
  "nbformat": 4,
  "nbformat_minor": 0,
  "metadata": {
    "colab": {
      "name": "DL_regressor_keras_api.ipynb",
      "provenance": [],
      "collapsed_sections": [],
      "include_colab_link": true
    },
    "kernelspec": {
      "name": "python3",
      "display_name": "Python 3"
    },
    "accelerator": "GPU"
  },
  "cells": [
    {
      "cell_type": "markdown",
      "metadata": {
        "id": "view-in-github",
        "colab_type": "text"
      },
      "source": [
        "<a href=\"https://colab.research.google.com/github/gb08/Deep_learning_with_Colab/blob/master/DL_regressor_keras_api.ipynb\" target=\"_parent\"><img src=\"https://colab.research.google.com/assets/colab-badge.svg\" alt=\"Open In Colab\"/></a>"
      ]
    },
    {
      "cell_type": "code",
      "metadata": {
        "id": "s2sqj1Q_Ux1-",
        "colab_type": "code",
        "colab": {}
      },
      "source": [
        "from google.colab import drive"
      ],
      "execution_count": 0,
      "outputs": []
    },
    {
      "cell_type": "code",
      "metadata": {
        "id": "7o228hlUVAbM",
        "colab_type": "code",
        "colab": {}
      },
      "source": [
        "import matplotlib as mpl\n",
        "import matplotlib.pyplot as plt\n",
        "import numpy as np\n",
        "import os\n",
        "import pandas as pd\n",
        "import sklearn\n",
        "import sys\n",
        "import tensorflow as tf\n",
        "from tensorflow import keras  # tf.keras\n",
        "import time"
      ],
      "execution_count": 0,
      "outputs": []
    },
    {
      "cell_type": "code",
      "metadata": {
        "id": "a0chllmKVCrz",
        "colab_type": "code",
        "colab": {}
      },
      "source": [
        "from sklearn.model_selection import train_test_split\n",
        "from sklearn.preprocessing import StandardScaler\n",
        "from sklearn.datasets import fetch_california_housing"
      ],
      "execution_count": 0,
      "outputs": []
    },
    {
      "cell_type": "code",
      "metadata": {
        "id": "bihysNZ_VEfR",
        "colab_type": "code",
        "colab": {}
      },
      "source": [
        "drive.mount('/content/gdrive')\n",
        "#!ls gdrive/My\\ Drive\n",
        "\n",
        "model_path = '/content/gdrive/My\\ Drive/dl_reg_keras_api'"
      ],
      "execution_count": 0,
      "outputs": []
    },
    {
      "cell_type": "code",
      "metadata": {
        "id": "quDmGgWOVkSL",
        "colab_type": "code",
        "colab": {}
      },
      "source": [
        "%matplotlib inline\n",
        "%load_ext tensorboard"
      ],
      "execution_count": 0,
      "outputs": []
    },
    {
      "cell_type": "markdown",
      "metadata": {
        "id": "LuPmyDsLVOcE",
        "colab_type": "text"
      },
      "source": [
        "Fetch Dataset"
      ]
    },
    {
      "cell_type": "code",
      "metadata": {
        "id": "u-TzxOdDViRJ",
        "colab_type": "code",
        "colab": {}
      },
      "source": [
        "\n",
        "fetch_california_housing = fetch_california_housing()"
      ],
      "execution_count": 0,
      "outputs": []
    },
    {
      "cell_type": "code",
      "metadata": {
        "id": "fquJMq1HVngU",
        "colab_type": "code",
        "colab": {}
      },
      "source": [
        "X = fetch_california_housing.data\n",
        "Y = fetch_california_housing.target"
      ],
      "execution_count": 0,
      "outputs": []
    },
    {
      "cell_type": "code",
      "metadata": {
        "id": "jSuIll8YVxip",
        "colab_type": "code",
        "colab": {}
      },
      "source": [
        "X_train, X_test, y_train, y_test = train_test_split(X, Y, test_size=0.2)\n",
        "X_train, X_val, y_train, y_val = train_test_split(X_train, y_train, test_size=0.4)"
      ],
      "execution_count": 0,
      "outputs": []
    },
    {
      "cell_type": "code",
      "metadata": {
        "id": "LA6WP9uPV2qx",
        "colab_type": "code",
        "colab": {}
      },
      "source": [
        "X.shape, X_train.shape, X_val.shape, X_test.shape"
      ],
      "execution_count": 0,
      "outputs": []
    },
    {
      "cell_type": "code",
      "metadata": {
        "id": "VbLXc9CfV4ov",
        "colab_type": "code",
        "colab": {}
      },
      "source": [
        "scaler = StandardScaler()\n",
        "X_train_scaled = scaler.fit_transform(X_train)"
      ],
      "execution_count": 0,
      "outputs": []
    },
    {
      "cell_type": "code",
      "metadata": {
        "id": "LMi8GrYmV8v6",
        "colab_type": "code",
        "colab": {}
      },
      "source": [
        "X_val_scaled = scaler.transform(X_val)\n",
        "X_test_scaled = scaler.transform(X_test)"
      ],
      "execution_count": 0,
      "outputs": []
    },
    {
      "cell_type": "markdown",
      "metadata": {
        "id": "4VZ-4VSUbHAi",
        "colab_type": "text"
      },
      "source": [
        "## FUNCTIONAL API ##"
      ]
    },
    {
      "cell_type": "code",
      "metadata": {
        "id": "WXzVjOAVV_FH",
        "colab_type": "code",
        "colab": {}
      },
      "source": [
        "input_layer = keras.layers.Input(shape=(8,))"
      ],
      "execution_count": 0,
      "outputs": []
    },
    {
      "cell_type": "code",
      "metadata": {
        "id": "xt_ogwptW3YK",
        "colab_type": "code",
        "colab": {}
      },
      "source": [
        "hidden1 = keras.layers.Dense(30, activation=\"relu\")(input_layer) \n",
        "hidden2 = keras.layers.Dense(30, activation=\"relu\")(hidden1)"
      ],
      "execution_count": 0,
      "outputs": []
    },
    {
      "cell_type": "code",
      "metadata": {
        "id": "vN6s2tdcW_Ci",
        "colab_type": "code",
        "colab": {}
      },
      "source": [
        "concat_layer = keras.layers.concatenate(inputs=[input_layer, hidden2]) "
      ],
      "execution_count": 0,
      "outputs": []
    },
    {
      "cell_type": "code",
      "metadata": {
        "id": "gEcyustQYPKD",
        "colab_type": "code",
        "colab": {}
      },
      "source": [
        "output_layer = keras.layers.Dense(1)(concat_layer)"
      ],
      "execution_count": 0,
      "outputs": []
    },
    {
      "cell_type": "code",
      "metadata": {
        "id": "B8swY0IaXjoV",
        "colab_type": "code",
        "colab": {}
      },
      "source": [
        "model = keras.models.Model(inputs=[input_layer], outputs=[output_layer])"
      ],
      "execution_count": 0,
      "outputs": []
    },
    {
      "cell_type": "code",
      "metadata": {
        "id": "xaQP0dKFYCFV",
        "colab_type": "code",
        "colab": {}
      },
      "source": [
        "model.compile(optimizer=keras.optimizers.SGD(learning_rate=(1e-3)), loss = \"mean_squared_error\")"
      ],
      "execution_count": 0,
      "outputs": []
    },
    {
      "cell_type": "code",
      "metadata": {
        "id": "pO8IFdERZHfD",
        "colab_type": "code",
        "colab": {}
      },
      "source": [
        "model.summary()"
      ],
      "execution_count": 0,
      "outputs": []
    },
    {
      "cell_type": "code",
      "metadata": {
        "id": "TJCJQVSzZU-o",
        "colab_type": "code",
        "colab": {}
      },
      "source": [
        "history = model.fit(x=X_train_scaled, y=y_train, epochs=10, \n",
        "                    validation_data=(X_val_scaled, y_val))"
      ],
      "execution_count": 0,
      "outputs": []
    },
    {
      "cell_type": "code",
      "metadata": {
        "id": "94ZB_R0oaJoK",
        "colab_type": "code",
        "colab": {}
      },
      "source": [
        "def plot_learning_curves(history):\n",
        "    pd.DataFrame(history.history).plot(figsize=(8, 5))\n",
        "    plt.grid(True)\n",
        "    plt.gca().set_ylim(0, 1)\n",
        "    plt.show()"
      ],
      "execution_count": 0,
      "outputs": []
    },
    {
      "cell_type": "code",
      "metadata": {
        "id": "LOsImLJvaPUr",
        "colab_type": "code",
        "colab": {}
      },
      "source": [
        "plot_learning_curves(history)"
      ],
      "execution_count": 0,
      "outputs": []
    },
    {
      "cell_type": "code",
      "metadata": {
        "id": "uAuZgDLVaS1y",
        "colab_type": "code",
        "colab": {}
      },
      "source": [
        "model.evaluate(x=X_test_scaled, y=y_test)"
      ],
      "execution_count": 0,
      "outputs": []
    },
    {
      "cell_type": "code",
      "metadata": {
        "id": "j_trlKSsafDU",
        "colab_type": "code",
        "colab": {}
      },
      "source": [
        "model.predict(X_test[1:10])"
      ],
      "execution_count": 0,
      "outputs": []
    },
    {
      "cell_type": "code",
      "metadata": {
        "id": "VfaPie5Uana4",
        "colab_type": "code",
        "colab": {}
      },
      "source": [
        "model.save('dl_reg_keras_func_api.h5')"
      ],
      "execution_count": 0,
      "outputs": []
    },
    {
      "cell_type": "markdown",
      "metadata": {
        "id": "XMmptFO4bPg4",
        "colab_type": "text"
      },
      "source": [
        "## SUBCLASSING API ##"
      ]
    },
    {
      "cell_type": "code",
      "metadata": {
        "id": "gBQEuuQQbV_M",
        "colab_type": "code",
        "colab": {}
      },
      "source": [
        "class MyModel(keras.models.Model):\n",
        "    def __init__(self):\n",
        "        super(MyModel, self).__init__()\n",
        "        self.hidden1 = keras.layers.Dense(40, activation=\"relu\")\n",
        "        self.hidden2 = keras.layers.Dense(40, activation=\"relu\")\n",
        "        self.output_ = keras.layers.Dense(1)\n",
        "\n",
        "    def call(self, input):\n",
        "        hidden1 = self.hidden1(input)\n",
        "        hidden2 = self.hidden2(hidden1)\n",
        "        concat = keras.layers.concatenate([input, hidden2])\n",
        "        output = self.output_(concat)\n",
        "        return output\n",
        "\n"
      ],
      "execution_count": 0,
      "outputs": []
    },
    {
      "cell_type": "code",
      "metadata": {
        "id": "zN6oVOFwcYYD",
        "colab_type": "code",
        "colab": {}
      },
      "source": [
        "model = MyModel()"
      ],
      "execution_count": 0,
      "outputs": []
    },
    {
      "cell_type": "code",
      "metadata": {
        "id": "z5WKQsA-cuyj",
        "colab_type": "code",
        "colab": {}
      },
      "source": [
        ""
      ],
      "execution_count": 0,
      "outputs": []
    },
    {
      "cell_type": "code",
      "metadata": {
        "id": "mi1viLtycZM5",
        "colab_type": "code",
        "colab": {}
      },
      "source": [
        "model.compile(loss=\"mse\", optimizer=keras.optimizers.SGD(1e-3))\n"
      ],
      "execution_count": 0,
      "outputs": []
    },
    {
      "cell_type": "markdown",
      "metadata": {
        "id": "8sxaOzLocc_5",
        "colab_type": "text"
      },
      "source": [
        "\n"
      ]
    },
    {
      "cell_type": "code",
      "metadata": {
        "id": "9MOTviaCczXE",
        "colab_type": "code",
        "colab": {}
      },
      "source": [
        "history = model.fit(X_train_scaled, y_train, epochs=10,\n",
        "                    validation_data=(X_val_scaled, y_val))"
      ],
      "execution_count": 0,
      "outputs": []
    },
    {
      "cell_type": "code",
      "metadata": {
        "id": "cdwzhNeac7tX",
        "colab_type": "code",
        "colab": {}
      },
      "source": [
        "model.summary()\n"
      ],
      "execution_count": 0,
      "outputs": []
    },
    {
      "cell_type": "code",
      "metadata": {
        "id": "Ih3PWwUlc-QF",
        "colab_type": "code",
        "colab": {}
      },
      "source": [
        "model.evaluate(X_test_scaled, y_test)\n"
      ],
      "execution_count": 0,
      "outputs": []
    },
    {
      "cell_type": "code",
      "metadata": {
        "id": "34HOYXpbdA3W",
        "colab_type": "code",
        "colab": {}
      },
      "source": [
        "model.save('dl_reg_keras_succl_api', save_format='tf')"
      ],
      "execution_count": 0,
      "outputs": []
    },
    {
      "cell_type": "code",
      "metadata": {
        "id": "D7np9eeh4GVP",
        "colab_type": "code",
        "colab": {}
      },
      "source": [
        "X_train_scaled_A = X_train_scaled[:, :5]\n",
        "X_train_scaled_B = X_train_scaled[:, 2:]\n",
        "X_valid_scaled_A = X_val_scaled[:, :5]\n",
        "X_valid_scaled_B = X_val_scaled[:, 2:]\n",
        "X_test_scaled_A = X_test_scaled[:, :5]\n",
        "X_test_scaled_B = X_test_scaled[:, 2:]"
      ],
      "execution_count": 0,
      "outputs": []
    },
    {
      "cell_type": "code",
      "metadata": {
        "id": "KwS0CiGNhlAV",
        "colab_type": "code",
        "colab": {}
      },
      "source": [
        "input_A = keras.layers.Input(shape=X_train_scaled_A.shape[1:])\n",
        "input_B = keras.layers.Input(shape=X_train_scaled_B.shape[1:])\n",
        "hidden1 = keras.layers.Dense(30, activation=\"relu\")(input_B)\n",
        "hidden2 = keras.layers.Dense(30, activation=\"relu\")(hidden1)\n",
        "concat = keras.layers.concatenate([input_A, hidden2])\n",
        "output = keras.layers.Dense(1)(concat)\n",
        "aux_output = keras.layers.Dense(1)(hidden2)"
      ],
      "execution_count": 0,
      "outputs": []
    },
    {
      "cell_type": "code",
      "metadata": {
        "id": "93qWedYZ3bD8",
        "colab_type": "code",
        "colab": {}
      },
      "source": [
        "model = keras.models.Model(inputs=[input_A, input_B],\n",
        "                           outputs=[output, aux_output])\n"
      ],
      "execution_count": 0,
      "outputs": []
    },
    {
      "cell_type": "code",
      "metadata": {
        "id": "rMzoGoPC49lM",
        "colab_type": "code",
        "colab": {}
      },
      "source": [
        "model.compile(loss=[\"mean_squared_error\", \"mean_squared_error\"], loss_weights=[0.9, 0.1],\n",
        "              optimizer=keras.optimizers.SGD(1e-3))\n"
      ],
      "execution_count": 0,
      "outputs": []
    },
    {
      "cell_type": "code",
      "metadata": {
        "id": "rCPPrvxC5OmF",
        "colab_type": "code",
        "colab": {}
      },
      "source": [
        "model.summary()\n"
      ],
      "execution_count": 0,
      "outputs": []
    },
    {
      "cell_type": "code",
      "metadata": {
        "id": "MxgTweZt5kQ6",
        "colab_type": "code",
        "colab": {}
      },
      "source": [
        "history = model.fit([X_train_scaled_A, X_train_scaled_B], [y_train, y_train], epochs=10,\n",
        "                    validation_data=([X_valid_scaled_A, X_valid_scaled_B], [y_val, y_val]))\n"
      ],
      "execution_count": 0,
      "outputs": []
    },
    {
      "cell_type": "code",
      "metadata": {
        "id": "iWplw0WD5ryy",
        "colab_type": "code",
        "colab": {}
      },
      "source": [
        "model.evaluate([X_test_scaled_A, X_test_scaled_B], [y_test, y_test])\n"
      ],
      "execution_count": 0,
      "outputs": []
    },
    {
      "cell_type": "code",
      "metadata": {
        "id": "XtztEBer6HuX",
        "colab_type": "code",
        "colab": {}
      },
      "source": [
        "y_pred, y_pred_aux = model.predict([X_test_scaled_A, X_test_scaled_B])\n"
      ],
      "execution_count": 0,
      "outputs": []
    },
    {
      "cell_type": "code",
      "metadata": {
        "id": "sP9xKEDe6KUI",
        "colab_type": "code",
        "colab": {}
      },
      "source": [
        ""
      ],
      "execution_count": 0,
      "outputs": []
    }
  ]
}