{
  "nbformat": 4,
  "nbformat_minor": 0,
  "metadata": {
    "colab": {
      "name": "tensorflow_mnist_fashion_data.ipynb",
      "provenance": [],
      "collapsed_sections": [],
      "include_colab_link": true
    },
    "kernelspec": {
      "name": "python3",
      "display_name": "Python 3"
    },
    "accelerator": "GPU"
  },
  "cells": [
    {
      "cell_type": "markdown",
      "metadata": {
        "id": "view-in-github",
        "colab_type": "text"
      },
      "source": [
        "<a href=\"https://colab.research.google.com/github/gb08/Deep_learning_with_Colab/blob/master/tensorflow_mnist_fashion_data.ipynb\" target=\"_parent\"><img src=\"https://colab.research.google.com/assets/colab-badge.svg\" alt=\"Open In Colab\"/></a>"
      ]
    },
    {
      "cell_type": "code",
      "metadata": {
        "id": "gzLOFhO3w8t3",
        "colab_type": "code",
        "colab": {}
      },
      "source": [
        "# !pip install -U -q PyDrive\n",
        "from google.colab import drive"
      ],
      "execution_count": 0,
      "outputs": []
    },
    {
      "cell_type": "code",
      "metadata": {
        "id": "ZLJLBuVonkKn",
        "colab_type": "code",
        "outputId": "a419e388-c5b0-4ecf-c246-3b45a4d8c3f9",
        "colab": {
          "base_uri": "https://localhost:8080/",
          "height": 63
        }
      },
      "source": [
        "import matplotlib as mpl\n",
        "import matplotlib.pyplot as plt\n",
        "import numpy as np\n",
        "import os\n",
        "import pandas as pd\n",
        "import sklearn\n",
        "import sys\n",
        "import tensorflow as tf\n",
        "from tensorflow import keras  # tf.keras\n",
        "import time"
      ],
      "execution_count": 4,
      "outputs": [
        {
          "output_type": "display_data",
          "data": {
            "text/html": [
              "<p style=\"color: red;\">\n",
              "The default version of TensorFlow in Colab will soon switch to TensorFlow 2.x.<br>\n",
              "We recommend you <a href=\"https://www.tensorflow.org/guide/migrate\" target=\"_blank\">upgrade</a> now \n",
              "or ensure your notebook will continue to use TensorFlow 1.x via the <code>%tensorflow_version 1.x</code> magic:\n",
              "<a href=\"https://colab.research.google.com/notebooks/tensorflow_version.ipynb\" target=\"_blank\">more info</a>.</p>\n"
            ],
            "text/plain": [
              "<IPython.core.display.HTML object>"
            ]
          },
          "metadata": {
            "tags": []
          }
        }
      ]
    },
    {
      "cell_type": "code",
      "metadata": {
        "id": "Yy5Hv24nxT_I",
        "colab_type": "code",
        "colab": {}
      },
      "source": [
        "drive.mount('/content/gdrive')\n",
        "#!ls gdrive/My\\ Drive\n",
        "\n",
        "model_path = '/content/gdrive/My Drive/tensorflow_mnist_model/'"
      ],
      "execution_count": 0,
      "outputs": []
    },
    {
      "cell_type": "markdown",
      "metadata": {
        "id": "us1Vv77TxR26",
        "colab_type": "text"
      },
      "source": [
        ""
      ]
    },
    {
      "cell_type": "code",
      "metadata": {
        "id": "P8lceGo-no8F",
        "colab_type": "code",
        "colab": {}
      },
      "source": [
        "\n",
        "%matplotlib inline\n",
        "%load_ext tensorboard"
      ],
      "execution_count": 0,
      "outputs": []
    },
    {
      "cell_type": "markdown",
      "metadata": {
        "id": "-LDQNlaTR1v4",
        "colab_type": "text"
      },
      "source": [
        "Check Python and keras version"
      ]
    },
    {
      "cell_type": "code",
      "metadata": {
        "id": "x8aEW2choEqT",
        "colab_type": "code",
        "outputId": "20615ab1-b820-4ad4-82fc-b7421575ee77",
        "colab": {
          "base_uri": "https://localhost:8080/",
          "height": 153
        }
      },
      "source": [
        "print(\"python\", sys.version)\n",
        "for module in mpl, np, pd, sklearn, tf, keras:\n",
        "    print(module.__name__, module.__version__)"
      ],
      "execution_count": 15,
      "outputs": [
        {
          "output_type": "stream",
          "text": [
            "python 3.6.8 (default, Oct  7 2019, 12:59:55) \n",
            "[GCC 8.3.0]\n",
            "matplotlib 3.1.1\n",
            "numpy 1.17.4\n",
            "pandas 0.25.3\n",
            "sklearn 0.21.3\n",
            "tensorflow 1.15.0\n",
            "tensorflow.python.keras.api._v1.keras 2.2.4-tf\n"
          ],
          "name": "stdout"
        }
      ]
    },
    {
      "cell_type": "markdown",
      "metadata": {
        "id": "Chi1B-MmSJto",
        "colab_type": "text"
      },
      "source": [
        "Load mnist fashion dataset"
      ]
    },
    {
      "cell_type": "code",
      "metadata": {
        "id": "cZv2C5JKoJjb",
        "colab_type": "code",
        "outputId": "36ddca85-2a55-4218-9b1f-aa7353c928fa",
        "colab": {
          "base_uri": "https://localhost:8080/",
          "height": 153
        }
      },
      "source": [
        "fashion_mnist = keras.datasets.fashion_mnist\n",
        "(X_train_full, y_train_full), (X_test, y_test) = (\n",
        "    fashion_mnist.load_data())\n"
      ],
      "execution_count": 16,
      "outputs": [
        {
          "output_type": "stream",
          "text": [
            "Downloading data from https://storage.googleapis.com/tensorflow/tf-keras-datasets/train-labels-idx1-ubyte.gz\n",
            "32768/29515 [=================================] - 0s 0us/step\n",
            "Downloading data from https://storage.googleapis.com/tensorflow/tf-keras-datasets/train-images-idx3-ubyte.gz\n",
            "26427392/26421880 [==============================] - 0s 0us/step\n",
            "Downloading data from https://storage.googleapis.com/tensorflow/tf-keras-datasets/t10k-labels-idx1-ubyte.gz\n",
            "8192/5148 [===============================================] - 0s 0us/step\n",
            "Downloading data from https://storage.googleapis.com/tensorflow/tf-keras-datasets/t10k-images-idx3-ubyte.gz\n",
            "4423680/4422102 [==============================] - 0s 0us/step\n"
          ],
          "name": "stdout"
        }
      ]
    },
    {
      "cell_type": "markdown",
      "metadata": {
        "id": "z8MKnRMLSgrY",
        "colab_type": "text"
      },
      "source": [
        "Devide dataset into trai and test set"
      ]
    },
    {
      "cell_type": "code",
      "metadata": {
        "id": "YQXxhMTduTuE",
        "colab_type": "code",
        "colab": {}
      },
      "source": [
        "X_valid, X_train = X_train_full[:5000], X_train_full[5000:]\n",
        "y_valid, y_train = y_train_full[:5000], y_train_full[5000:]"
      ],
      "execution_count": 0,
      "outputs": []
    },
    {
      "cell_type": "code",
      "metadata": {
        "id": "-gf_S-Rjuqqt",
        "colab_type": "code",
        "outputId": "57133e2f-51f1-4546-f58d-e5fa1d99ae8d",
        "colab": {
          "base_uri": "https://localhost:8080/",
          "height": 34
        }
      },
      "source": [
        "\n",
        "X_train.shape"
      ],
      "execution_count": 0,
      "outputs": [
        {
          "output_type": "execute_result",
          "data": {
            "text/plain": [
              "(55000, 28, 28)"
            ]
          },
          "metadata": {
            "tags": []
          },
          "execution_count": 7
        }
      ]
    },
    {
      "cell_type": "markdown",
      "metadata": {
        "id": "VrKt9MS7SyGz",
        "colab_type": "text"
      },
      "source": [
        "Plot first image from training dataset"
      ]
    },
    {
      "cell_type": "code",
      "metadata": {
        "id": "bfRYfYbiwKuq",
        "colab_type": "code",
        "outputId": "57cab89e-8537-485b-8df1-fa6b5d562a23",
        "colab": {
          "base_uri": "https://localhost:8080/",
          "height": 265
        }
      },
      "source": [
        "plt.imshow(X_train[0], cmap=\"binary\")\n",
        "plt.show()"
      ],
      "execution_count": 0,
      "outputs": [
        {
          "output_type": "display_data",
          "data": {
            "image/png": "[encoded data removed]",
            "text/plain": [
              "<Figure size 432x288 with 1 Axes>"
            ]
          },
          "metadata": {
            "tags": []
          }
        }
      ]
    },
    {
      "cell_type": "markdown",
      "metadata": {
        "id": "Y-zY1zlLS68B",
        "colab_type": "text"
      },
      "source": [
        "Define Class names."
      ]
    },
    {
      "cell_type": "code",
      "metadata": {
        "id": "3EI2xMVDwL09",
        "colab_type": "code",
        "colab": {}
      },
      "source": [
        "class_names = [\"T-shirt/top\", \"Trouser\", \"Pullover\", \"Dress\", \"Coat\",\n",
        "               \"Sandal\", \"Shirt\", \"Sneaker\", \"Bag\", \"Ankle boot\"]"
      ],
      "execution_count": 0,
      "outputs": []
    },
    {
      "cell_type": "code",
      "metadata": {
        "id": "PwiVe4UaxBuu",
        "colab_type": "code",
        "outputId": "ad8ca638-3bb7-4328-a593-a4003cda1549",
        "colab": {
          "base_uri": "https://localhost:8080/",
          "height": 34
        }
      },
      "source": [
        "class_names[y_train[0]]"
      ],
      "execution_count": 0,
      "outputs": [
        {
          "output_type": "execute_result",
          "data": {
            "text/plain": [
              "'Coat'"
            ]
          },
          "metadata": {
            "tags": []
          },
          "execution_count": 11
        }
      ]
    },
    {
      "cell_type": "markdown",
      "metadata": {
        "id": "QppXMviATShr",
        "colab_type": "text"
      },
      "source": [
        "Glimpse of dataset images"
      ]
    },
    {
      "cell_type": "code",
      "metadata": {
        "id": "lbVNCv4ZxIXF",
        "colab_type": "code",
        "outputId": "1c237bfa-3a84-4185-a743-720425056980",
        "colab": {
          "base_uri": "https://localhost:8080/",
          "height": 231
        }
      },
      "source": [
        "n_rows = 5\n",
        "n_cols = 10\n",
        "plt.figure(figsize=(n_cols*1.4, n_rows * 1.6))\n",
        "for row in range(n_rows):\n",
        "    for col in range(n_cols):\n",
        "        index = n_cols * row + col\n",
        "        plt.subplot(n_rows, n_cols, index + 1)\n",
        "        plt.imshow(X_train[index], interpolation=\"nearest\")\n",
        "        plt.axis('off')\n",
        "        plt.title(class_names[y_train[index]])\n",
        "plt.show()"
      ],
      "execution_count": 1,
      "outputs": [
        {
          "output_type": "error",
          "ename": "NameError",
          "evalue": "ignored",
          "traceback": [
            "\u001b[0;31m---------------------------------------------------------------------------\u001b[0m",
            "\u001b[0;31mNameError\u001b[0m                                 Traceback (most recent call last)",
            "\u001b[0;32m<ipython-input-1-0c6549eb8b11>\u001b[0m in \u001b[0;36m<module>\u001b[0;34m()\u001b[0m\n\u001b[1;32m      1\u001b[0m \u001b[0mn_rows\u001b[0m \u001b[0;34m=\u001b[0m \u001b[0;36m5\u001b[0m\u001b[0;34m\u001b[0m\u001b[0;34m\u001b[0m\u001b[0m\n\u001b[1;32m      2\u001b[0m \u001b[0mn_cols\u001b[0m \u001b[0;34m=\u001b[0m \u001b[0;36m10\u001b[0m\u001b[0;34m\u001b[0m\u001b[0;34m\u001b[0m\u001b[0m\n\u001b[0;32m----> 3\u001b[0;31m \u001b[0mplt\u001b[0m\u001b[0;34m.\u001b[0m\u001b[0mfigure\u001b[0m\u001b[0;34m(\u001b[0m\u001b[0mfigsize\u001b[0m\u001b[0;34m=\u001b[0m\u001b[0;34m(\u001b[0m\u001b[0mn_cols\u001b[0m\u001b[0;34m*\u001b[0m\u001b[0;36m1.4\u001b[0m\u001b[0;34m,\u001b[0m \u001b[0mn_rows\u001b[0m \u001b[0;34m*\u001b[0m \u001b[0;36m1.6\u001b[0m\u001b[0;34m)\u001b[0m\u001b[0;34m)\u001b[0m\u001b[0;34m\u001b[0m\u001b[0;34m\u001b[0m\u001b[0m\n\u001b[0m\u001b[1;32m      4\u001b[0m \u001b[0;32mfor\u001b[0m \u001b[0mrow\u001b[0m \u001b[0;32min\u001b[0m \u001b[0mrange\u001b[0m\u001b[0;34m(\u001b[0m\u001b[0mn_rows\u001b[0m\u001b[0;34m)\u001b[0m\u001b[0;34m:\u001b[0m\u001b[0;34m\u001b[0m\u001b[0;34m\u001b[0m\u001b[0m\n\u001b[1;32m      5\u001b[0m     \u001b[0;32mfor\u001b[0m \u001b[0mcol\u001b[0m \u001b[0;32min\u001b[0m \u001b[0mrange\u001b[0m\u001b[0;34m(\u001b[0m\u001b[0mn_cols\u001b[0m\u001b[0;34m)\u001b[0m\u001b[0;34m:\u001b[0m\u001b[0;34m\u001b[0m\u001b[0;34m\u001b[0m\u001b[0m\n",
            "\u001b[0;31mNameError\u001b[0m: name 'plt' is not defined"
          ]
        }
      ]
    },
    {
      "cell_type": "markdown",
      "metadata": {
        "id": "z_lPxgA3TdTv",
        "colab_type": "text"
      },
      "source": [
        "**Intialize Keras Model**\n",
        "**Add flatten input layer**\n",
        "**Add First hidden layer with 300 neurons, activation fnc ReLu**"
      ]
    },
    {
      "cell_type": "code",
      "metadata": {
        "id": "8am4KJ3Ix-mD",
        "colab_type": "code",
        "outputId": "77bc654e-f57b-4d96-9601-e72fdb1986f2",
        "colab": {
          "base_uri": "https://localhost:8080/",
          "height": 88
        }
      },
      "source": [
        "model = keras.models.Sequential()\n",
        "model.add(keras.layers.Flatten(input_shape=[28,28]))\n",
        "model.add(keras.layers.Dense(300, activation=\"relu\"))"
      ],
      "execution_count": 0,
      "outputs": [
        {
          "output_type": "stream",
          "text": [
            "WARNING:tensorflow:From /usr/local/lib/python3.6/dist-packages/tensorflow_core/python/ops/resource_variable_ops.py:1630: calling BaseResourceVariable.__init__ (from tensorflow.python.ops.resource_variable_ops) with constraint is deprecated and will be removed in a future version.\n",
            "Instructions for updating:\n",
            "If using Keras pass *_constraint arguments to layers.\n"
          ],
          "name": "stdout"
        }
      ]
    },
    {
      "cell_type": "markdown",
      "metadata": {
        "id": "mh7WBdqnURiz",
        "colab_type": "text"
      },
      "source": [
        "**Add Output Layer with 10 neurons(one for each class) with activation fnc Softmax**"
      ]
    },
    {
      "cell_type": "code",
      "metadata": {
        "id": "wPSs7GClzfXw",
        "colab_type": "code",
        "colab": {}
      },
      "source": [
        "model.add(keras.layers.Dense(10, activation=\"softmax\"))"
      ],
      "execution_count": 0,
      "outputs": []
    },
    {
      "cell_type": "markdown",
      "metadata": {
        "id": "_utaHyyhUlXz",
        "colab_type": "text"
      },
      "source": [
        "Check Model Summary"
      ]
    },
    {
      "cell_type": "code",
      "metadata": {
        "id": "dEO2xLtEzs5q",
        "colab_type": "code",
        "outputId": "082ee9ed-fdf4-4558-bf2f-dcbba2314f0a",
        "colab": {
          "base_uri": "https://localhost:8080/",
          "height": 255
        }
      },
      "source": [
        "model.summary()"
      ],
      "execution_count": 0,
      "outputs": [
        {
          "output_type": "stream",
          "text": [
            "Model: \"sequential\"\n",
            "_________________________________________________________________\n",
            "Layer (type)                 Output Shape              Param #   \n",
            "=================================================================\n",
            "flatten (Flatten)            (None, 784)               0         \n",
            "_________________________________________________________________\n",
            "dense (Dense)                (None, 300)               235500    \n",
            "_________________________________________________________________\n",
            "dense_1 (Dense)              (None, 10)                3010      \n",
            "=================================================================\n",
            "Total params: 238,510\n",
            "Trainable params: 238,510\n",
            "Non-trainable params: 0\n",
            "_________________________________________________________________\n"
          ],
          "name": "stdout"
        }
      ]
    },
    {
      "cell_type": "markdown",
      "metadata": {
        "id": "NQDqNoOSUn2f",
        "colab_type": "text"
      },
      "source": [
        "Plot Model"
      ]
    },
    {
      "cell_type": "code",
      "metadata": {
        "id": "4StjyOMHz02n",
        "colab_type": "code",
        "outputId": "0e55b83c-90d5-4e3b-a4ba-da2fa01a5ebf",
        "colab": {
          "base_uri": "https://localhost:8080/",
          "height": 369
        }
      },
      "source": [
        "keras.utils.plot_model(model)"
      ],
      "execution_count": 0,
      "outputs": [
        {
          "output_type": "execute_result",
          "data": {
            "image/png": "[encoded data removed]",
            "text/plain": [
              "<IPython.core.display.Image object>"
            ]
          },
          "metadata": {
            "tags": []
          },
          "execution_count": 16
        }
      ]
    },
    {
      "cell_type": "markdown",
      "metadata": {
        "id": "Pm5uGtcYUtOx",
        "colab_type": "text"
      },
      "source": [
        "Compile Model, Set loss fnc avaible in keras, optimizer(SGD with learning rate 1e-3) and metrics as accuracy "
      ]
    },
    {
      "cell_type": "code",
      "metadata": {
        "id": "AMFlI8YS0FyT",
        "colab_type": "code",
        "colab": {}
      },
      "source": [
        "model.compile(loss=\"sparse_categorical_crossentropy\", optimizer=keras.optimizers.SGD(lr=1e-3), metrics=[\"accuracy\"])"
      ],
      "execution_count": 0,
      "outputs": []
    },
    {
      "cell_type": "markdown",
      "metadata": {
        "id": "JE2z2hMJVISe",
        "colab_type": "text"
      },
      "source": [
        "Fit Model, Set values for Number of epochs also provide validation set, model will return history object containing statistics"
      ]
    },
    {
      "cell_type": "code",
      "metadata": {
        "id": "BviMurQr2dSr",
        "colab_type": "code",
        "outputId": "2bf27b35-dc3a-40bc-c735-ed86c28238c5",
        "colab": {
          "base_uri": "https://localhost:8080/",
          "height": 374
        }
      },
      "source": [
        "history = model.fit(epochs=10, x=X_train, y=y_train, validation_data=(X_valid, y_valid))"
      ],
      "execution_count": 0,
      "outputs": [
        {
          "output_type": "stream",
          "text": [
            "Train on 55000 samples, validate on 5000 samples\n",
            "Epoch 1/10\n",
            "55000/55000 [==============================] - 6s 108us/sample - loss: 3.5390 - acc: 0.6738 - val_loss: 1.0418 - val_acc: 0.7180\n",
            "Epoch 2/10\n",
            "55000/55000 [==============================] - 5s 95us/sample - loss: 0.6742 - acc: 0.7529 - val_loss: 0.6732 - val_acc: 0.7610\n",
            "Epoch 3/10\n",
            "55000/55000 [==============================] - 5s 95us/sample - loss: 0.6032 - acc: 0.7763 - val_loss: 0.6798 - val_acc: 0.7864\n",
            "Epoch 4/10\n",
            "55000/55000 [==============================] - 5s 98us/sample - loss: 0.5652 - acc: 0.7910 - val_loss: 0.6236 - val_acc: 0.7696\n",
            "Epoch 5/10\n",
            "55000/55000 [==============================] - 5s 97us/sample - loss: 0.5397 - acc: 0.7967 - val_loss: 0.5722 - val_acc: 0.8074\n",
            "Epoch 6/10\n",
            "55000/55000 [==============================] - 5s 94us/sample - loss: 0.5214 - acc: 0.8027 - val_loss: 0.6041 - val_acc: 0.7780\n",
            "Epoch 7/10\n",
            "55000/55000 [==============================] - 5s 94us/sample - loss: 0.5025 - acc: 0.8097 - val_loss: 0.5772 - val_acc: 0.8150\n",
            "Epoch 8/10\n",
            "55000/55000 [==============================] - 5s 95us/sample - loss: 0.4853 - acc: 0.8151 - val_loss: 0.5498 - val_acc: 0.8142\n",
            "Epoch 9/10\n",
            "55000/55000 [==============================] - 5s 94us/sample - loss: 0.4758 - acc: 0.8188 - val_loss: 0.5308 - val_acc: 0.8202\n",
            "Epoch 10/10\n",
            "55000/55000 [==============================] - 5s 93us/sample - loss: 0.4537 - acc: 0.8332 - val_loss: 0.5277 - val_acc: 0.8366\n"
          ],
          "name": "stdout"
        }
      ]
    },
    {
      "cell_type": "markdown",
      "metadata": {
        "id": "cizvSGLUVdvR",
        "colab_type": "text"
      },
      "source": [
        "Plot learning Curves"
      ]
    },
    {
      "cell_type": "code",
      "metadata": {
        "id": "GALrWZhC3NSi",
        "colab_type": "code",
        "outputId": "c2e2d563-75ae-4fc3-f303-36e36f76480f",
        "colab": {
          "base_uri": "https://localhost:8080/",
          "height": 282
        }
      },
      "source": [
        "pd.DataFrame(history.history).plot()"
      ],
      "execution_count": 0,
      "outputs": [
        {
          "output_type": "execute_result",
          "data": {
            "text/plain": [
              "<matplotlib.axes._subplots.AxesSubplot at 0x7fc267f135f8>"
            ]
          },
          "metadata": {
            "tags": []
          },
          "execution_count": 19
        },
        {
          "output_type": "display_data",
          "data": {
            "image/png": "[encoded data removed]",
            "text/plain": [
              "<Figure size 432x288 with 1 Axes>"
            ]
          },
          "metadata": {
            "tags": []
          }
        }
      ]
    },
    {
      "cell_type": "code",
      "metadata": {
        "id": "UW2FlNqpCNVc",
        "colab_type": "code",
        "colab": {}
      },
      "source": [
        ""
      ],
      "execution_count": 0,
      "outputs": []
    },
    {
      "cell_type": "code",
      "metadata": {
        "id": "kLXCbzZO3iHh",
        "colab_type": "code",
        "outputId": "de90fd8f-27d2-4b8f-8d04-281d0878a6eb",
        "colab": {
          "base_uri": "https://localhost:8080/",
          "height": 324
        }
      },
      "source": [
        "plt.figure(figsize=(8,5)); plt.grid(True); plt.gca().set_ylim(0, 1); plt.plot(pd.DataFrame(history.history));"
      ],
      "execution_count": 0,
      "outputs": [
        {
          "output_type": "display_data",
          "data": {
            "image/png": "[encoded data removed]",
            "text/plain": [
              "<Figure size 576x360 with 1 Axes>"
            ]
          },
          "metadata": {
            "tags": []
          }
        }
      ]
    },
    {
      "cell_type": "code",
      "metadata": {
        "id": "tIrRvAlRC2VB",
        "colab_type": "code",
        "colab": {}
      },
      "source": [
        "Train model for few more epochs, it will start where left last time"
      ],
      "execution_count": 0,
      "outputs": []
    },
    {
      "cell_type": "code",
      "metadata": {
        "id": "1G98aP1OC8Kx",
        "colab_type": "code",
        "outputId": "2f72b50d-5a7d-4e5c-d2a7-132b84d55491",
        "colab": {
          "base_uri": "https://localhost:8080/",
          "height": 374
        }
      },
      "source": [
        "history = model.fit(epochs=10, x=X_train, y=y_train, validation_data=(X_valid, y_valid))"
      ],
      "execution_count": 0,
      "outputs": [
        {
          "output_type": "stream",
          "text": [
            "Train on 55000 samples, validate on 5000 samples\n",
            "Epoch 1/10\n",
            "55000/55000 [==============================] - 5s 96us/sample - loss: 0.4315 - acc: 0.8443 - val_loss: 0.5093 - val_acc: 0.8416\n",
            "Epoch 2/10\n",
            "55000/55000 [==============================] - 5s 93us/sample - loss: 0.4200 - acc: 0.8495 - val_loss: 0.5028 - val_acc: 0.8436\n",
            "Epoch 3/10\n",
            "55000/55000 [==============================] - 5s 94us/sample - loss: 0.4101 - acc: 0.8517 - val_loss: 0.5287 - val_acc: 0.8384\n",
            "Epoch 4/10\n",
            "55000/55000 [==============================] - 5s 94us/sample - loss: 0.4036 - acc: 0.8540 - val_loss: 0.4881 - val_acc: 0.8484\n",
            "Epoch 5/10\n",
            "55000/55000 [==============================] - 5s 95us/sample - loss: 0.3961 - acc: 0.8579 - val_loss: 0.5172 - val_acc: 0.8456\n",
            "Epoch 6/10\n",
            "55000/55000 [==============================] - 5s 93us/sample - loss: 0.3885 - acc: 0.8598 - val_loss: 0.5809 - val_acc: 0.8380\n",
            "Epoch 7/10\n",
            "55000/55000 [==============================] - 5s 93us/sample - loss: 0.3806 - acc: 0.8614 - val_loss: 0.5993 - val_acc: 0.8228\n",
            "Epoch 8/10\n",
            "55000/55000 [==============================] - 5s 94us/sample - loss: 0.3785 - acc: 0.8625 - val_loss: 0.5117 - val_acc: 0.8422\n",
            "Epoch 9/10\n",
            "55000/55000 [==============================] - 5s 94us/sample - loss: 0.3736 - acc: 0.8644 - val_loss: 0.5287 - val_acc: 0.8364\n",
            "Epoch 10/10\n",
            "55000/55000 [==============================] - 5s 95us/sample - loss: 0.3686 - acc: 0.8655 - val_loss: 0.5701 - val_acc: 0.8166\n"
          ],
          "name": "stdout"
        }
      ]
    },
    {
      "cell_type": "markdown",
      "metadata": {
        "id": "lpZmUYU1WSuS",
        "colab_type": "text"
      },
      "source": [
        "Evaluate model on test set"
      ]
    },
    {
      "cell_type": "code",
      "metadata": {
        "id": "wTPddtIeEzcP",
        "colab_type": "code",
        "outputId": "57ed2c05-f530-4542-f3bc-300c6ca28452",
        "colab": {
          "base_uri": "https://localhost:8080/",
          "height": 34
        }
      },
      "source": [
        "evall = model.evaluate(x=X_test, y=y_test)"
      ],
      "execution_count": 0,
      "outputs": [
        {
          "output_type": "stream",
          "text": [
            "10000/10000 [==============================] - 1s 66us/sample - loss: 0.6139 - acc: 0.8083\n"
          ],
          "name": "stdout"
        }
      ]
    },
    {
      "cell_type": "code",
      "metadata": {
        "id": "W0fotWbKFwn6",
        "colab_type": "code",
        "colab": {}
      },
      "source": [
        "X_new = X_test[0:10]"
      ],
      "execution_count": 0,
      "outputs": []
    },
    {
      "cell_type": "markdown",
      "metadata": {
        "id": "9sUqZUyzWY1E",
        "colab_type": "text"
      },
      "source": [
        "Predict values for few of the test samples"
      ]
    },
    {
      "cell_type": "code",
      "metadata": {
        "id": "G_EWLA3pF-zm",
        "colab_type": "code",
        "colab": {}
      },
      "source": [
        "predicted_out = model.predict(X_new)"
      ],
      "execution_count": 0,
      "outputs": []
    },
    {
      "cell_type": "code",
      "metadata": {
        "id": "tNGYWo3vGEYG",
        "colab_type": "code",
        "outputId": "01fcd4be-401c-4eaa-8f54-292e604ac41b",
        "colab": {
          "base_uri": "https://localhost:8080/",
          "height": 163
        }
      },
      "source": [
        "predicted_out.round(2)"
      ],
      "execution_count": 2,
      "outputs": [
        {
          "output_type": "error",
          "ename": "NameError",
          "evalue": "ignored",
          "traceback": [
            "\u001b[0;31m---------------------------------------------------------------------------\u001b[0m",
            "\u001b[0;31mNameError\u001b[0m                                 Traceback (most recent call last)",
            "\u001b[0;32m<ipython-input-2-4fa4b942935e>\u001b[0m in \u001b[0;36m<module>\u001b[0;34m()\u001b[0m\n\u001b[0;32m----> 1\u001b[0;31m \u001b[0mpredicted_out\u001b[0m\u001b[0;34m.\u001b[0m\u001b[0mround\u001b[0m\u001b[0;34m(\u001b[0m\u001b[0;36m2\u001b[0m\u001b[0;34m)\u001b[0m\u001b[0;34m\u001b[0m\u001b[0;34m\u001b[0m\u001b[0m\n\u001b[0m",
            "\u001b[0;31mNameError\u001b[0m: name 'predicted_out' is not defined"
          ]
        }
      ]
    },
    {
      "cell_type": "markdown",
      "metadata": {
        "id": "FOHkoft0WjK3",
        "colab_type": "text"
      },
      "source": [
        "Get class Ids of most likely class"
      ]
    },
    {
      "cell_type": "code",
      "metadata": {
        "id": "51Ztwn0OGGgz",
        "colab_type": "code",
        "outputId": "572124c1-28e3-4cc9-d3dd-858e276cae71",
        "colab": {
          "base_uri": "https://localhost:8080/",
          "height": 34
        }
      },
      "source": [
        "np.argmax(predicted_out, axis=1)"
      ],
      "execution_count": 0,
      "outputs": [
        {
          "output_type": "execute_result",
          "data": {
            "text/plain": [
              "array([9, 2, 1, 1, 6, 1, 4, 4, 5, 7])"
            ]
          },
          "metadata": {
            "tags": []
          },
          "execution_count": 26
        }
      ]
    },
    {
      "cell_type": "markdown",
      "metadata": {
        "id": "Zait-eBoWuNz",
        "colab_type": "text"
      },
      "source": [
        "Use predict class method directly"
      ]
    },
    {
      "cell_type": "code",
      "metadata": {
        "id": "4LnauQ1BGRbh",
        "colab_type": "code",
        "outputId": "ff32fc40-4254-4cf4-c0cc-ee43596ceff9",
        "colab": {
          "base_uri": "https://localhost:8080/",
          "height": 34
        }
      },
      "source": [
        "model.predict_classes(X_new)"
      ],
      "execution_count": 0,
      "outputs": [
        {
          "output_type": "execute_result",
          "data": {
            "text/plain": [
              "array([9, 2, 1, 1, 6, 1, 4, 4, 5, 7])"
            ]
          },
          "metadata": {
            "tags": []
          },
          "execution_count": 27
        }
      ]
    },
    {
      "cell_type": "markdown",
      "metadata": {
        "id": "vZSa7zQDWzDb",
        "colab_type": "text"
      },
      "source": [
        "Get Probabilities of predicted class"
      ]
    },
    {
      "cell_type": "code",
      "metadata": {
        "id": "ejJj2jQUIUFH",
        "colab_type": "code",
        "outputId": "2c9008e2-fd41-4b2b-9cc4-008b024b3bc1",
        "colab": {
          "base_uri": "https://localhost:8080/",
          "height": 51
        }
      },
      "source": [
        "predicted_out.max(axis=1).round(2)"
      ],
      "execution_count": 0,
      "outputs": [
        {
          "output_type": "execute_result",
          "data": {
            "text/plain": [
              "array([0.98, 0.66, 1.  , 1.  , 0.65, 1.  , 0.95, 0.55, 1.  , 1.  ],\n",
              "      dtype=float32)"
            ]
          },
          "metadata": {
            "tags": []
          },
          "execution_count": 28
        }
      ]
    },
    {
      "cell_type": "markdown",
      "metadata": {
        "id": "WpMvZa3PW7C4",
        "colab_type": "text"
      },
      "source": [
        "Get Top three predicted classes for image"
      ]
    },
    {
      "cell_type": "code",
      "metadata": {
        "id": "LhDYmsQhJpjg",
        "colab_type": "code",
        "outputId": "da946605-7dcd-453a-b6e2-9e5f9d6c45ee",
        "colab": {
          "base_uri": "https://localhost:8080/",
          "height": 187
        }
      },
      "source": [
        "\n",
        "k = 3\n",
        "top_k = np.argsort(-predicted_out, axis=1)[:, :k]\n",
        "top_k"
      ],
      "execution_count": 46,
      "outputs": [
        {
          "output_type": "execute_result",
          "data": {
            "text/plain": [
              "array([[9, 7, 5],\n",
              "       [2, 4, 6],\n",
              "       [1, 3, 0],\n",
              "       [1, 3, 0],\n",
              "       [6, 4, 2],\n",
              "       [1, 3, 0],\n",
              "       [4, 6, 2],\n",
              "       [4, 6, 2],\n",
              "       [5, 8, 7],\n",
              "       [7, 5, 9]])"
            ]
          },
          "metadata": {
            "tags": []
          },
          "execution_count": 46
        }
      ]
    },
    {
      "cell_type": "markdown",
      "metadata": {
        "id": "BLRd9REIXGtO",
        "colab_type": "text"
      },
      "source": [
        "Get probabilities of top K classes"
      ]
    },
    {
      "cell_type": "code",
      "metadata": {
        "id": "XQE16JyfJ5ta",
        "colab_type": "code",
        "outputId": "cfc8c3c7-3d83-4360-80a5-32addc407ee8",
        "colab": {
          "base_uri": "https://localhost:8080/",
          "height": 187
        }
      },
      "source": [
        "row_indices = np.tile(np.arange(len(top_k)), [k, 1]).T\n",
        "predicted_out[row_indices, top_k].round(2)"
      ],
      "execution_count": 0,
      "outputs": [
        {
          "output_type": "execute_result",
          "data": {
            "text/plain": [
              "array([[0.98, 0.02, 0.  ],\n",
              "       [0.66, 0.27, 0.06],\n",
              "       [1.  , 0.  , 0.  ],\n",
              "       [1.  , 0.  , 0.  ],\n",
              "       [0.65, 0.31, 0.03],\n",
              "       [1.  , 0.  , 0.  ],\n",
              "       [0.95, 0.04, 0.01],\n",
              "       [0.55, 0.44, 0.01],\n",
              "       [1.  , 0.  , 0.  ],\n",
              "       [1.  , 0.  , 0.  ]], dtype=float32)"
            ]
          },
          "metadata": {
            "tags": []
          },
          "execution_count": 31
        }
      ]
    },
    {
      "cell_type": "markdown",
      "metadata": {
        "id": "7WHqy5PiXNr8",
        "colab_type": "text"
      },
      "source": [
        "**Now, Try with Standerdized dataset**"
      ]
    },
    {
      "cell_type": "code",
      "metadata": {
        "id": "RD6qN3tWKFHv",
        "colab_type": "code",
        "colab": {}
      },
      "source": [
        "scaler = sklearn.preprocessing.StandardScaler()"
      ],
      "execution_count": 0,
      "outputs": []
    },
    {
      "cell_type": "markdown",
      "metadata": {
        "id": "S4p5ogtiXXH9",
        "colab_type": "text"
      },
      "source": [
        "Fit Scalar object on Training data and transform test and validation set"
      ]
    },
    {
      "cell_type": "code",
      "metadata": {
        "id": "OHjiVlGislr1",
        "colab_type": "code",
        "colab": {}
      },
      "source": [
        "X_train_scaled = scaler.fit_transform(X_train.astype(np.float32).reshape(-1, 28 * 28)).reshape(-1, 28, 28)\n",
        "X_valid_scaled = scaler.transform(X_valid.astype(np.float32).reshape(-1, 28 * 28)).reshape(-1, 28, 28)\n",
        "X_test_scaled = scaler.transform(X_test.astype(np.float32).reshape(-1, 28 * 28)).reshape(-1, 28, 28)"
      ],
      "execution_count": 0,
      "outputs": []
    },
    {
      "cell_type": "markdown",
      "metadata": {
        "id": "K9DXrxavXiRl",
        "colab_type": "text"
      },
      "source": [
        "Build Model, With one more hidden Layer"
      ]
    },
    {
      "cell_type": "code",
      "metadata": {
        "id": "yciVgLl3t4Oh",
        "colab_type": "code",
        "outputId": "da716eef-7d18-466f-f870-aecddf935d27",
        "colab": {
          "base_uri": "https://localhost:8080/",
          "height": 374
        }
      },
      "source": [
        "model = keras.models.Sequential([\n",
        "    keras.layers.Flatten(input_shape=[28, 28]),\n",
        "    keras.layers.Dense(300, activation=\"relu\"),\n",
        "    keras.layers.Dense(100, activation=\"relu\"),\n",
        "    keras.layers.Dense(10, activation=\"softmax\")\n",
        "])\n",
        "model.compile(loss=\"sparse_categorical_crossentropy\",\n",
        "              optimizer=keras.optimizers.SGD(1e-3), metrics=[\"accuracy\"])\n",
        "history = model.fit(X_train_scaled, y_train, epochs=10,\n",
        "                    validation_data=(X_valid_scaled, y_valid))"
      ],
      "execution_count": 26,
      "outputs": [
        {
          "output_type": "stream",
          "text": [
            "Train on 55000 samples, validate on 5000 samples\n",
            "Epoch 1/10\n",
            "55000/55000 [==============================] - 6s 113us/sample - loss: 0.9298 - acc: 0.6977 - val_loss: 0.6256 - val_acc: 0.7910\n",
            "Epoch 2/10\n",
            "55000/55000 [==============================] - 5s 98us/sample - loss: 0.5787 - acc: 0.7975 - val_loss: 0.5233 - val_acc: 0.8238\n",
            "Epoch 3/10\n",
            "55000/55000 [==============================] - 5s 98us/sample - loss: 0.5068 - acc: 0.8203 - val_loss: 0.4782 - val_acc: 0.8364\n",
            "Epoch 4/10\n",
            "55000/55000 [==============================] - 5s 98us/sample - loss: 0.4676 - acc: 0.8339 - val_loss: 0.4526 - val_acc: 0.8466\n",
            "Epoch 5/10\n",
            "55000/55000 [==============================] - 5s 98us/sample - loss: 0.4415 - acc: 0.8441 - val_loss: 0.4331 - val_acc: 0.8504\n",
            "Epoch 6/10\n",
            "55000/55000 [==============================] - 5s 99us/sample - loss: 0.4223 - acc: 0.8508 - val_loss: 0.4187 - val_acc: 0.8578\n",
            "Epoch 7/10\n",
            "55000/55000 [==============================] - 5s 98us/sample - loss: 0.4072 - acc: 0.8562 - val_loss: 0.4070 - val_acc: 0.8590\n",
            "Epoch 8/10\n",
            "55000/55000 [==============================] - 5s 99us/sample - loss: 0.3943 - acc: 0.8610 - val_loss: 0.3986 - val_acc: 0.8622\n",
            "Epoch 9/10\n",
            "55000/55000 [==============================] - 5s 98us/sample - loss: 0.3835 - acc: 0.8654 - val_loss: 0.3906 - val_acc: 0.8640\n",
            "Epoch 10/10\n",
            "55000/55000 [==============================] - 5s 96us/sample - loss: 0.3741 - acc: 0.8682 - val_loss: 0.3846 - val_acc: 0.8666\n"
          ],
          "name": "stdout"
        }
      ]
    },
    {
      "cell_type": "code",
      "metadata": {
        "id": "hRBpQVRgu-e1",
        "colab_type": "code",
        "colab": {}
      },
      "source": [
        "def plot_learning_curves(history):\n",
        "    pd.DataFrame(history.history).plot(figsize=(8, 5))\n",
        "    plt.grid(True)\n",
        "    plt.gca().set_ylim(0, 1)\n",
        "    plt.show()"
      ],
      "execution_count": 0,
      "outputs": []
    },
    {
      "cell_type": "markdown",
      "metadata": {
        "id": "vfYxlY5oXuxU",
        "colab_type": "text"
      },
      "source": [
        "Plot Learning Curves for this model"
      ]
    },
    {
      "cell_type": "code",
      "metadata": {
        "id": "2LKD-ijZvM8P",
        "colab_type": "code",
        "outputId": "02e47878-a92d-478e-beb3-b21e32182b96",
        "colab": {
          "base_uri": "https://localhost:8080/",
          "height": 324
        }
      },
      "source": [
        "plot_learning_curves(history)"
      ],
      "execution_count": 28,
      "outputs": [
        {
          "output_type": "display_data",
          "data": {
            "image/png": "[encoded data removed]",
            "text/plain": [
              "<Figure size 576x360 with 1 Axes>"
            ]
          },
          "metadata": {
            "tags": []
          }
        }
      ]
    },
    {
      "cell_type": "code",
      "metadata": {
        "id": "btKh8ThCvPMR",
        "colab_type": "code",
        "outputId": "7066e6b6-d756-441f-9a40-db28dfcfda67",
        "colab": {
          "base_uri": "https://localhost:8080/",
          "height": 34
        }
      },
      "source": [
        "# model_path"
      ],
      "execution_count": 29,
      "outputs": [
        {
          "output_type": "execute_result",
          "data": {
            "text/plain": [
              "'/content/gdrive/My Drive/tensorflow_model_1/'"
            ]
          },
          "metadata": {
            "tags": []
          },
          "execution_count": 29
        }
      ]
    },
    {
      "cell_type": "markdown",
      "metadata": {
        "id": "9BJyCx-6X4zz",
        "colab_type": "text"
      },
      "source": [
        "Train model with Callback. Provide Google drive path for log directory and model checkpoints, save best model"
      ]
    },
    {
      "cell_type": "code",
      "metadata": {
        "id": "lI5xsvwnvwIU",
        "colab_type": "code",
        "colab": {
          "base_uri": "https://localhost:8080/",
          "height": 1000
        },
        "outputId": "40a81545-fa64-4309-bd16-f3018c5cd1d0"
      },
      "source": [
        "model = keras.models.Sequential([\n",
        "    keras.layers.Flatten(input_shape=[28, 28]),\n",
        "    keras.layers.Dense(300, activation=\"relu\"),\n",
        "    keras.layers.Dense(100, activation=\"relu\"),\n",
        "    keras.layers.Dense(10, activation=\"softmax\")\n",
        "])\n",
        "model.compile(loss=\"sparse_categorical_crossentropy\",\n",
        "              optimizer=keras.optimizers.SGD(1e-3), metrics=[\"accuracy\"])\n",
        "\n",
        "\n",
        "logdir = os.path.join(model_path, \"run_{}\".format(time.time()))\n",
        "\n",
        "callbacks = [\n",
        "    keras.callbacks.TensorBoard(logdir),\n",
        "    keras.callbacks.EarlyStopping(patience=5),\n",
        "    keras.callbacks.ModelCheckpoint(\"my_mnist_model.h5\", save_best_only=True),\n",
        "]\n",
        "history_c = model.fit(X_train_scaled, y_train, epochs=50,\n",
        "                    validation_data=(X_valid_scaled, y_valid),\n",
        "                    callbacks=callbacks)"
      ],
      "execution_count": 30,
      "outputs": [
        {
          "output_type": "stream",
          "text": [
            "Train on 55000 samples, validate on 5000 samples\n",
            "Epoch 1/50\n",
            "WARNING:tensorflow:Method (on_train_batch_end) is slow compared to the batch update (0.197673). Check your callbacks.\n",
            "   32/55000 [..............................] - ETA: 7:08 - loss: 2.3254 - acc: 0.1875WARNING:tensorflow:Method (on_train_batch_end) is slow compared to the batch update (0.107156). Check your callbacks.\n",
            "55000/55000 [==============================] - 6s 113us/sample - loss: 0.9698 - acc: 0.6931 - val_loss: 0.6395 - val_acc: 0.7880\n",
            "Epoch 2/50\n",
            "55000/55000 [==============================] - 6s 105us/sample - loss: 0.5867 - acc: 0.8007 - val_loss: 0.5384 - val_acc: 0.8168\n",
            "Epoch 3/50\n",
            "55000/55000 [==============================] - 6s 109us/sample - loss: 0.5131 - acc: 0.8200 - val_loss: 0.4913 - val_acc: 0.8332\n",
            "Epoch 4/50\n",
            "55000/55000 [==============================] - 6s 104us/sample - loss: 0.4733 - acc: 0.8314 - val_loss: 0.4632 - val_acc: 0.8414\n",
            "Epoch 5/50\n",
            "55000/55000 [==============================] - 6s 104us/sample - loss: 0.4467 - acc: 0.8416 - val_loss: 0.4444 - val_acc: 0.8472\n",
            "Epoch 6/50\n",
            "55000/55000 [==============================] - 6s 105us/sample - loss: 0.4274 - acc: 0.8477 - val_loss: 0.4300 - val_acc: 0.8530\n",
            "Epoch 7/50\n",
            "55000/55000 [==============================] - 6s 102us/sample - loss: 0.4120 - acc: 0.8537 - val_loss: 0.4188 - val_acc: 0.8558\n",
            "Epoch 8/50\n",
            "55000/55000 [==============================] - 6s 107us/sample - loss: 0.3996 - acc: 0.8579 - val_loss: 0.4098 - val_acc: 0.8606\n",
            "Epoch 9/50\n",
            "55000/55000 [==============================] - 6s 106us/sample - loss: 0.3887 - acc: 0.8615 - val_loss: 0.4023 - val_acc: 0.8622\n",
            "Epoch 10/50\n",
            "55000/55000 [==============================] - 6s 101us/sample - loss: 0.3793 - acc: 0.8642 - val_loss: 0.3967 - val_acc: 0.8628\n",
            "Epoch 11/50\n",
            "55000/55000 [==============================] - 6s 103us/sample - loss: 0.3711 - acc: 0.8672 - val_loss: 0.3908 - val_acc: 0.8652\n",
            "Epoch 12/50\n",
            "55000/55000 [==============================] - 6s 104us/sample - loss: 0.3638 - acc: 0.8701 - val_loss: 0.3881 - val_acc: 0.8678\n",
            "Epoch 13/50\n",
            "55000/55000 [==============================] - 6s 109us/sample - loss: 0.3572 - acc: 0.8727 - val_loss: 0.3830 - val_acc: 0.8692\n",
            "Epoch 14/50\n",
            "55000/55000 [==============================] - 6s 104us/sample - loss: 0.3509 - acc: 0.8750 - val_loss: 0.3793 - val_acc: 0.8672\n",
            "Epoch 15/50\n",
            "55000/55000 [==============================] - 6s 113us/sample - loss: 0.3454 - acc: 0.8778 - val_loss: 0.3758 - val_acc: 0.8708\n",
            "Epoch 16/50\n",
            "55000/55000 [==============================] - 6s 106us/sample - loss: 0.3400 - acc: 0.8790 - val_loss: 0.3720 - val_acc: 0.8706\n",
            "Epoch 17/50\n",
            "55000/55000 [==============================] - 6s 104us/sample - loss: 0.3350 - acc: 0.8807 - val_loss: 0.3693 - val_acc: 0.8720\n",
            "Epoch 18/50\n",
            "55000/55000 [==============================] - 6s 105us/sample - loss: 0.3303 - acc: 0.8826 - val_loss: 0.3678 - val_acc: 0.8722\n",
            "Epoch 19/50\n",
            "55000/55000 [==============================] - 6s 105us/sample - loss: 0.3259 - acc: 0.8839 - val_loss: 0.3643 - val_acc: 0.8712\n",
            "Epoch 20/50\n",
            "55000/55000 [==============================] - 6s 103us/sample - loss: 0.3218 - acc: 0.8859 - val_loss: 0.3631 - val_acc: 0.8738\n",
            "Epoch 21/50\n",
            "55000/55000 [==============================] - 6s 108us/sample - loss: 0.3178 - acc: 0.8875 - val_loss: 0.3619 - val_acc: 0.8750\n",
            "Epoch 22/50\n",
            "55000/55000 [==============================] - 6s 107us/sample - loss: 0.3139 - acc: 0.8887 - val_loss: 0.3586 - val_acc: 0.8762\n",
            "Epoch 23/50\n",
            "55000/55000 [==============================] - 6s 105us/sample - loss: 0.3104 - acc: 0.8905 - val_loss: 0.3575 - val_acc: 0.8768\n",
            "Epoch 24/50\n",
            "55000/55000 [==============================] - 6s 101us/sample - loss: 0.3068 - acc: 0.8916 - val_loss: 0.3551 - val_acc: 0.8772\n",
            "Epoch 25/50\n",
            "55000/55000 [==============================] - 6s 103us/sample - loss: 0.3034 - acc: 0.8931 - val_loss: 0.3541 - val_acc: 0.8764\n",
            "Epoch 26/50\n",
            "55000/55000 [==============================] - 6s 102us/sample - loss: 0.3003 - acc: 0.8941 - val_loss: 0.3522 - val_acc: 0.8780\n",
            "Epoch 27/50\n",
            "55000/55000 [==============================] - 6s 102us/sample - loss: 0.2969 - acc: 0.8949 - val_loss: 0.3527 - val_acc: 0.8802\n",
            "Epoch 28/50\n",
            "55000/55000 [==============================] - 6s 102us/sample - loss: 0.2938 - acc: 0.8967 - val_loss: 0.3510 - val_acc: 0.8786\n",
            "Epoch 29/50\n",
            "55000/55000 [==============================] - 6s 105us/sample - loss: 0.2910 - acc: 0.8979 - val_loss: 0.3501 - val_acc: 0.8806\n",
            "Epoch 30/50\n",
            "55000/55000 [==============================] - 6s 103us/sample - loss: 0.2880 - acc: 0.8983 - val_loss: 0.3473 - val_acc: 0.8804\n",
            "Epoch 31/50\n",
            "55000/55000 [==============================] - 6s 103us/sample - loss: 0.2853 - acc: 0.9000 - val_loss: 0.3464 - val_acc: 0.8816\n",
            "Epoch 32/50\n",
            "55000/55000 [==============================] - 6s 107us/sample - loss: 0.2823 - acc: 0.9009 - val_loss: 0.3463 - val_acc: 0.8786\n",
            "Epoch 33/50\n",
            "55000/55000 [==============================] - 6s 103us/sample - loss: 0.2796 - acc: 0.9020 - val_loss: 0.3450 - val_acc: 0.8808\n",
            "Epoch 34/50\n",
            "55000/55000 [==============================] - 6s 104us/sample - loss: 0.2771 - acc: 0.9025 - val_loss: 0.3432 - val_acc: 0.8808\n",
            "Epoch 35/50\n",
            "55000/55000 [==============================] - 6s 107us/sample - loss: 0.2745 - acc: 0.9036 - val_loss: 0.3424 - val_acc: 0.8814\n",
            "Epoch 36/50\n",
            "55000/55000 [==============================] - 6s 103us/sample - loss: 0.2719 - acc: 0.9047 - val_loss: 0.3419 - val_acc: 0.8810\n",
            "Epoch 37/50\n",
            "55000/55000 [==============================] - 6s 102us/sample - loss: 0.2695 - acc: 0.9057 - val_loss: 0.3409 - val_acc: 0.8832\n",
            "Epoch 38/50\n",
            "55000/55000 [==============================] - 6s 107us/sample - loss: 0.2671 - acc: 0.9065 - val_loss: 0.3409 - val_acc: 0.8828\n",
            "Epoch 39/50\n",
            "55000/55000 [==============================] - 6s 103us/sample - loss: 0.2648 - acc: 0.9066 - val_loss: 0.3395 - val_acc: 0.8822\n",
            "Epoch 40/50\n",
            "55000/55000 [==============================] - 6s 104us/sample - loss: 0.2624 - acc: 0.9078 - val_loss: 0.3378 - val_acc: 0.8838\n",
            "Epoch 41/50\n",
            "55000/55000 [==============================] - 6s 109us/sample - loss: 0.2600 - acc: 0.9085 - val_loss: 0.3373 - val_acc: 0.8852\n",
            "Epoch 42/50\n",
            "55000/55000 [==============================] - 6s 106us/sample - loss: 0.2580 - acc: 0.9099 - val_loss: 0.3375 - val_acc: 0.8844\n",
            "Epoch 43/50\n",
            "55000/55000 [==============================] - 6s 105us/sample - loss: 0.2557 - acc: 0.9093 - val_loss: 0.3375 - val_acc: 0.8854\n",
            "Epoch 44/50\n",
            "55000/55000 [==============================] - 6s 107us/sample - loss: 0.2535 - acc: 0.9108 - val_loss: 0.3379 - val_acc: 0.8850\n",
            "Epoch 45/50\n",
            "55000/55000 [==============================] - 6s 105us/sample - loss: 0.2513 - acc: 0.9116 - val_loss: 0.3352 - val_acc: 0.8858\n",
            "Epoch 46/50\n",
            "55000/55000 [==============================] - 6s 104us/sample - loss: 0.2493 - acc: 0.9121 - val_loss: 0.3346 - val_acc: 0.8872\n",
            "Epoch 47/50\n",
            "55000/55000 [==============================] - 6s 104us/sample - loss: 0.2472 - acc: 0.9128 - val_loss: 0.3351 - val_acc: 0.8864\n",
            "Epoch 48/50\n",
            "55000/55000 [==============================] - 6s 106us/sample - loss: 0.2452 - acc: 0.9138 - val_loss: 0.3333 - val_acc: 0.8858\n",
            "Epoch 49/50\n",
            "55000/55000 [==============================] - 6s 103us/sample - loss: 0.2432 - acc: 0.9147 - val_loss: 0.3334 - val_acc: 0.8856\n",
            "Epoch 50/50\n",
            "55000/55000 [==============================] - 6s 108us/sample - loss: 0.2408 - acc: 0.9154 - val_loss: 0.3329 - val_acc: 0.8866\n"
          ],
          "name": "stdout"
        }
      ]
    },
    {
      "cell_type": "code",
      "metadata": {
        "id": "jzS9Uy7ElKEH",
        "colab_type": "code",
        "colab": {
          "base_uri": "https://localhost:8080/",
          "height": 17
        },
        "outputId": "1ebb6449-f0e4-482e-86c4-9ef9ec4e0867"
      },
      "source": [
        "\n",
        "%tensorboard --logdir=./my_logs"
      ],
      "execution_count": 31,
      "outputs": [
        {
          "output_type": "display_data",
          "data": {
            "text/html": [
              "\n",
              "    <div id=\"root\"></div>\n",
              "    <script>\n",
              "      (function() {\n",
              "        window.TENSORBOARD_ENV = window.TENSORBOARD_ENV || {};\n",
              "        window.TENSORBOARD_ENV[\"IN_COLAB\"] = true;\n",
              "        document.querySelector(\"base\").href = \"https://localhost:6006\";\n",
              "        function fixUpTensorboard(root) {\n",
              "          const tftb = root.querySelector(\"tf-tensorboard\");\n",
              "          // Disable the fragment manipulation behavior in Colab. Not\n",
              "          // only is the behavior not useful (as the iframe's location\n",
              "          // is not visible to the user), it causes TensorBoard's usage\n",
              "          // of `window.replace` to navigate away from the page and to\n",
              "          // the `localhost:<port>` URL specified by the base URI, which\n",
              "          // in turn causes the frame to (likely) crash.\n",
              "          tftb.removeAttribute(\"use-hash\");\n",
              "        }\n",
              "        function executeAllScripts(root) {\n",
              "          // When `script` elements are inserted into the DOM by\n",
              "          // assigning to an element's `innerHTML`, the scripts are not\n",
              "          // executed. Thus, we manually re-insert these scripts so that\n",
              "          // TensorBoard can initialize itself.\n",
              "          for (const script of root.querySelectorAll(\"script\")) {\n",
              "            const newScript = document.createElement(\"script\");\n",
              "            newScript.type = script.type;\n",
              "            newScript.textContent = script.textContent;\n",
              "            root.appendChild(newScript);\n",
              "            script.remove();\n",
              "          }\n",
              "        }\n",
              "        function setHeight(root, height) {\n",
              "          // We set the height dynamically after the TensorBoard UI has\n",
              "          // been initialized. This avoids an intermediate state in\n",
              "          // which the container plus the UI become taller than the\n",
              "          // final width and cause the Colab output frame to be\n",
              "          // permanently resized, eventually leading to an empty\n",
              "          // vertical gap below the TensorBoard UI. It's not clear\n",
              "          // exactly what causes this problematic intermediate state,\n",
              "          // but setting the height late seems to fix it.\n",
              "          root.style.height = `${height}px`;\n",
              "        }\n",
              "        const root = document.getElementById(\"root\");\n",
              "        fetch(\".\")\n",
              "          .then((x) => x.text())\n",
              "          .then((html) => void (root.innerHTML = html))\n",
              "          .then(() => fixUpTensorboard(root))\n",
              "          .then(() => executeAllScripts(root))\n",
              "          .then(() => setHeight(root, 800));\n",
              "      })();\n",
              "    </script>\n",
              "  "
            ],
            "text/plain": [
              "<IPython.core.display.HTML object>"
            ]
          },
          "metadata": {
            "tags": []
          }
        }
      ]
    },
    {
      "cell_type": "markdown",
      "metadata": {
        "id": "QjnDZmnYcMIC",
        "colab_type": "text"
      },
      "source": [
        "Load Saved model from google drive"
      ]
    },
    {
      "cell_type": "code",
      "metadata": {
        "id": "6X23PnwvmuEF",
        "colab_type": "code",
        "colab": {
          "base_uri": "https://localhost:8080/",
          "height": 139
        },
        "outputId": "0335cfeb-f7ca-42e2-a7a5-e4b4c755fcb3"
      },
      "source": [
        "model_c =  keras.models.load_model(\"my_mnist_model.h5\")"
      ],
      "execution_count": 32,
      "outputs": [
        {
          "output_type": "stream",
          "text": [
            "WARNING:tensorflow:From /usr/local/lib/python3.6/dist-packages/tensorflow_core/python/ops/init_ops.py:97: calling GlorotUniform.__init__ (from tensorflow.python.ops.init_ops) with dtype is deprecated and will be removed in a future version.\n",
            "Instructions for updating:\n",
            "Call initializer instance with the dtype argument instead of passing it to the constructor\n",
            "WARNING:tensorflow:From /usr/local/lib/python3.6/dist-packages/tensorflow_core/python/ops/init_ops.py:97: calling Zeros.__init__ (from tensorflow.python.ops.init_ops) with dtype is deprecated and will be removed in a future version.\n",
            "Instructions for updating:\n",
            "Call initializer instance with the dtype argument instead of passing it to the constructor\n"
          ],
          "name": "stdout"
        }
      ]
    },
    {
      "cell_type": "markdown",
      "metadata": {
        "id": "Zp8G-8QCcSMN",
        "colab_type": "text"
      },
      "source": [
        "Evaluate model"
      ]
    },
    {
      "cell_type": "code",
      "metadata": {
        "id": "nTbYcAbUnNAu",
        "colab_type": "code",
        "colab": {}
      },
      "source": [
        "model_c.evaluate(X_valid_scaled, y_valid)"
      ],
      "execution_count": 0,
      "outputs": []
    },
    {
      "cell_type": "code",
      "metadata": {
        "id": "ze_uUto6cxPG",
        "colab_type": "code",
        "colab": {}
      },
      "source": [
        ""
      ],
      "execution_count": 0,
      "outputs": []
    }
  ]
}